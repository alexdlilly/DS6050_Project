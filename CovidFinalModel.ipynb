{
 "cells": [
  {
   "cell_type": "markdown",
   "metadata": {
    "id": "1IXLRyGj0NFd"
   },
   "source": [
    "# Data Cleaning and Prep"
   ]
  },
  {
   "cell_type": "code",
   "execution_count": 1,
   "metadata": {
    "id": "Q6uoF0gJOLpX",
    "tags": []
   },
   "outputs": [],
   "source": [
    "import pandas as pd\n",
    "import numpy as np\n",
    "from sklearn.metrics import roc_auc_score\n",
    "from sklearn.metrics import roc_curve"
   ]
  },
  {
   "cell_type": "code",
   "execution_count": 2,
   "metadata": {
    "id": "gMWzq8o1OdC-",
    "tags": []
   },
   "outputs": [],
   "source": [
    "url = 'https://raw.githubusercontent.com/alexdlilly/DS6050_Project/main/predicted%20data.csv'\n",
    "data = pd.read_csv(url)"
   ]
  },
  {
   "cell_type": "code",
   "execution_count": 3,
   "metadata": {
    "colab": {
     "base_uri": "https://localhost:8080/",
     "height": 533
    },
    "id": "3ht3cEMFOpRM",
    "outputId": "3b6b488c-27e3-4726-f577-8aa5a39eeaa1",
    "tags": []
   },
   "outputs": [
    {
     "data": {
      "text/html": [
       "<div>\n",
       "<style scoped>\n",
       "    .dataframe tbody tr th:only-of-type {\n",
       "        vertical-align: middle;\n",
       "    }\n",
       "\n",
       "    .dataframe tbody tr th {\n",
       "        vertical-align: top;\n",
       "    }\n",
       "\n",
       "    .dataframe thead th {\n",
       "        text-align: right;\n",
       "    }\n",
       "</style>\n",
       "<table border=\"1\" class=\"dataframe\">\n",
       "  <thead>\n",
       "    <tr style=\"text-align: right;\">\n",
       "      <th></th>\n",
       "      <th>Unnamed: 0</th>\n",
       "      <th>index</th>\n",
       "      <th>filename</th>\n",
       "      <th>covid</th>\n",
       "      <th>score</th>\n",
       "      <th>uuid</th>\n",
       "      <th>datetime</th>\n",
       "      <th>cough_detected</th>\n",
       "      <th>SNR</th>\n",
       "      <th>latitude</th>\n",
       "      <th>...</th>\n",
       "      <th>quality_4</th>\n",
       "      <th>cough_type_4</th>\n",
       "      <th>dyspnea_4</th>\n",
       "      <th>wheezing_4</th>\n",
       "      <th>stridor_4</th>\n",
       "      <th>choking_4</th>\n",
       "      <th>congestion_4</th>\n",
       "      <th>nothing_4</th>\n",
       "      <th>diagnosis_4</th>\n",
       "      <th>severity_4</th>\n",
       "    </tr>\n",
       "  </thead>\n",
       "  <tbody>\n",
       "    <tr>\n",
       "      <th>0</th>\n",
       "      <td>0</td>\n",
       "      <td>0</td>\n",
       "      <td>001d8e33-a4af-4edb-98ba-b03f891d9a6c</td>\n",
       "      <td>1</td>\n",
       "      <td>0.986853</td>\n",
       "      <td>001d8e33-a4af-4edb-98ba-b03f891d9a6c</td>\n",
       "      <td>2020-05-13T01:27:42.552773+00:00</td>\n",
       "      <td>0.0306</td>\n",
       "      <td>12.713480</td>\n",
       "      <td>13.8</td>\n",
       "      <td>...</td>\n",
       "      <td>NaN</td>\n",
       "      <td>NaN</td>\n",
       "      <td>NaN</td>\n",
       "      <td>NaN</td>\n",
       "      <td>NaN</td>\n",
       "      <td>NaN</td>\n",
       "      <td>NaN</td>\n",
       "      <td>NaN</td>\n",
       "      <td>NaN</td>\n",
       "      <td>NaN</td>\n",
       "    </tr>\n",
       "    <tr>\n",
       "      <th>1</th>\n",
       "      <td>1</td>\n",
       "      <td>1</td>\n",
       "      <td>00357712-dd5a-4c0a-90a4-39f1f4b9d5fd</td>\n",
       "      <td>1</td>\n",
       "      <td>0.005177</td>\n",
       "      <td>00357712-dd5a-4c0a-90a4-39f1f4b9d5fd</td>\n",
       "      <td>2020-04-10T12:48:17.554497+00:00</td>\n",
       "      <td>0.0576</td>\n",
       "      <td>0.000000</td>\n",
       "      <td>46.8</td>\n",
       "      <td>...</td>\n",
       "      <td>NaN</td>\n",
       "      <td>NaN</td>\n",
       "      <td>NaN</td>\n",
       "      <td>NaN</td>\n",
       "      <td>NaN</td>\n",
       "      <td>NaN</td>\n",
       "      <td>NaN</td>\n",
       "      <td>NaN</td>\n",
       "      <td>NaN</td>\n",
       "      <td>NaN</td>\n",
       "    </tr>\n",
       "    <tr>\n",
       "      <th>2</th>\n",
       "      <td>2</td>\n",
       "      <td>2</td>\n",
       "      <td>00e0a33c-6561-406e-b543-4c9f07b860f7</td>\n",
       "      <td>1</td>\n",
       "      <td>-0.124921</td>\n",
       "      <td>00e0a33c-6561-406e-b543-4c9f07b860f7</td>\n",
       "      <td>2020-04-15T07:01:51.945775+00:00</td>\n",
       "      <td>0.2798</td>\n",
       "      <td>12.695962</td>\n",
       "      <td>NaN</td>\n",
       "      <td>...</td>\n",
       "      <td>NaN</td>\n",
       "      <td>NaN</td>\n",
       "      <td>NaN</td>\n",
       "      <td>NaN</td>\n",
       "      <td>NaN</td>\n",
       "      <td>NaN</td>\n",
       "      <td>NaN</td>\n",
       "      <td>NaN</td>\n",
       "      <td>NaN</td>\n",
       "      <td>NaN</td>\n",
       "    </tr>\n",
       "    <tr>\n",
       "      <th>3</th>\n",
       "      <td>3</td>\n",
       "      <td>3</td>\n",
       "      <td>01424527-9c3b-4b6e-96f1-9eea3150819b</td>\n",
       "      <td>1</td>\n",
       "      <td>-0.022270</td>\n",
       "      <td>01424527-9c3b-4b6e-96f1-9eea3150819b</td>\n",
       "      <td>2020-10-18T15:51:28.858079+00:00</td>\n",
       "      <td>0.0000</td>\n",
       "      <td>16.047069</td>\n",
       "      <td>48.9</td>\n",
       "      <td>...</td>\n",
       "      <td>no_cough</td>\n",
       "      <td>NaN</td>\n",
       "      <td>False</td>\n",
       "      <td>False</td>\n",
       "      <td>False</td>\n",
       "      <td>False</td>\n",
       "      <td>False</td>\n",
       "      <td>False</td>\n",
       "      <td>NaN</td>\n",
       "      <td>NaN</td>\n",
       "    </tr>\n",
       "    <tr>\n",
       "      <th>4</th>\n",
       "      <td>4</td>\n",
       "      <td>4</td>\n",
       "      <td>015576c8-2b03-4dcb-b251-78a984fe86fe</td>\n",
       "      <td>1</td>\n",
       "      <td>-0.116273</td>\n",
       "      <td>015576c8-2b03-4dcb-b251-78a984fe86fe</td>\n",
       "      <td>2020-06-22T00:21:42.091345+00:00</td>\n",
       "      <td>1.0000</td>\n",
       "      <td>12.265701</td>\n",
       "      <td>NaN</td>\n",
       "      <td>...</td>\n",
       "      <td>good</td>\n",
       "      <td>unknown</td>\n",
       "      <td>False</td>\n",
       "      <td>False</td>\n",
       "      <td>False</td>\n",
       "      <td>False</td>\n",
       "      <td>False</td>\n",
       "      <td>True</td>\n",
       "      <td>obstructive_disease</td>\n",
       "      <td>mild</td>\n",
       "    </tr>\n",
       "  </tbody>\n",
       "</table>\n",
       "<p>5 rows × 56 columns</p>\n",
       "</div>"
      ],
      "text/plain": [
       "   Unnamed: 0  index                              filename  covid     score  \\\n",
       "0           0      0  001d8e33-a4af-4edb-98ba-b03f891d9a6c      1  0.986853   \n",
       "1           1      1  00357712-dd5a-4c0a-90a4-39f1f4b9d5fd      1  0.005177   \n",
       "2           2      2  00e0a33c-6561-406e-b543-4c9f07b860f7      1 -0.124921   \n",
       "3           3      3  01424527-9c3b-4b6e-96f1-9eea3150819b      1 -0.022270   \n",
       "4           4      4  015576c8-2b03-4dcb-b251-78a984fe86fe      1 -0.116273   \n",
       "\n",
       "                                   uuid                          datetime  \\\n",
       "0  001d8e33-a4af-4edb-98ba-b03f891d9a6c  2020-05-13T01:27:42.552773+00:00   \n",
       "1  00357712-dd5a-4c0a-90a4-39f1f4b9d5fd  2020-04-10T12:48:17.554497+00:00   \n",
       "2  00e0a33c-6561-406e-b543-4c9f07b860f7  2020-04-15T07:01:51.945775+00:00   \n",
       "3  01424527-9c3b-4b6e-96f1-9eea3150819b  2020-10-18T15:51:28.858079+00:00   \n",
       "4  015576c8-2b03-4dcb-b251-78a984fe86fe  2020-06-22T00:21:42.091345+00:00   \n",
       "\n",
       "   cough_detected        SNR  latitude  ...  quality_4  cough_type_4  \\\n",
       "0          0.0306  12.713480      13.8  ...        NaN           NaN   \n",
       "1          0.0576   0.000000      46.8  ...        NaN           NaN   \n",
       "2          0.2798  12.695962       NaN  ...        NaN           NaN   \n",
       "3          0.0000  16.047069      48.9  ...   no_cough           NaN   \n",
       "4          1.0000  12.265701       NaN  ...       good       unknown   \n",
       "\n",
       "  dyspnea_4  wheezing_4  stridor_4 choking_4 congestion_4 nothing_4  \\\n",
       "0       NaN         NaN        NaN       NaN          NaN       NaN   \n",
       "1       NaN         NaN        NaN       NaN          NaN       NaN   \n",
       "2       NaN         NaN        NaN       NaN          NaN       NaN   \n",
       "3     False       False      False     False        False     False   \n",
       "4     False       False      False     False        False      True   \n",
       "\n",
       "           diagnosis_4 severity_4  \n",
       "0                  NaN        NaN  \n",
       "1                  NaN        NaN  \n",
       "2                  NaN        NaN  \n",
       "3                  NaN        NaN  \n",
       "4  obstructive_disease       mild  \n",
       "\n",
       "[5 rows x 56 columns]"
      ]
     },
     "execution_count": 3,
     "metadata": {},
     "output_type": "execute_result"
    }
   ],
   "source": [
    "data.head()"
   ]
  },
  {
   "cell_type": "code",
   "execution_count": 4,
   "metadata": {
    "colab": {
     "base_uri": "https://localhost:8080/"
    },
    "id": "_vqHPqm0OqO7",
    "outputId": "4b7e4a35-d778-4d13-ce52-78e56198fb69",
    "tags": []
   },
   "outputs": [
    {
     "data": {
      "text/plain": [
       "Index(['Unnamed: 0', 'index', 'filename', 'covid', 'score', 'uuid', 'datetime',\n",
       "       'cough_detected', 'SNR', 'latitude', 'longitude', 'age', 'gender',\n",
       "       'respiratory_condition', 'fever_muscle_pain', 'status', 'quality_1',\n",
       "       'cough_type_1', 'dyspnea_1', 'wheezing_1', 'stridor_1', 'choking_1',\n",
       "       'congestion_1', 'nothing_1', 'diagnosis_1', 'severity_1', 'quality_2',\n",
       "       'cough_type_2', 'dyspnea_2', 'wheezing_2', 'stridor_2', 'choking_2',\n",
       "       'congestion_2', 'nothing_2', 'diagnosis_2', 'severity_2', 'quality_3',\n",
       "       'cough_type_3', 'dyspnea_3', 'wheezing_3', 'stridor_3', 'choking_3',\n",
       "       'congestion_3', 'nothing_3', 'diagnosis_3', 'severity_3', 'quality_4',\n",
       "       'cough_type_4', 'dyspnea_4', 'wheezing_4', 'stridor_4', 'choking_4',\n",
       "       'congestion_4', 'nothing_4', 'diagnosis_4', 'severity_4'],\n",
       "      dtype='object')"
      ]
     },
     "execution_count": 4,
     "metadata": {},
     "output_type": "execute_result"
    }
   ],
   "source": [
    "data.columns"
   ]
  },
  {
   "cell_type": "code",
   "execution_count": 5,
   "metadata": {
    "id": "yKgncyxQPB-j",
    "tags": []
   },
   "outputs": [],
   "source": [
    "cleaned = data.drop(['Unnamed: 0', 'index', 'filename', 'covid', 'uuid', 'datetime'], axis = 1)\n",
    "## drop the columns that will not be used in prediction\n",
    "## dropping covid column -- keeping status column and score column"
   ]
  },
  {
   "cell_type": "code",
   "execution_count": 6,
   "metadata": {
    "colab": {
     "base_uri": "https://localhost:8080/",
     "height": 342
    },
    "id": "wtgQI7ujPKtU",
    "outputId": "52460901-5a2f-4f0f-d4f8-eb89f1f9159a",
    "tags": []
   },
   "outputs": [
    {
     "data": {
      "text/html": [
       "<div>\n",
       "<style scoped>\n",
       "    .dataframe tbody tr th:only-of-type {\n",
       "        vertical-align: middle;\n",
       "    }\n",
       "\n",
       "    .dataframe tbody tr th {\n",
       "        vertical-align: top;\n",
       "    }\n",
       "\n",
       "    .dataframe thead th {\n",
       "        text-align: right;\n",
       "    }\n",
       "</style>\n",
       "<table border=\"1\" class=\"dataframe\">\n",
       "  <thead>\n",
       "    <tr style=\"text-align: right;\">\n",
       "      <th></th>\n",
       "      <th>score</th>\n",
       "      <th>cough_detected</th>\n",
       "      <th>SNR</th>\n",
       "      <th>latitude</th>\n",
       "      <th>longitude</th>\n",
       "      <th>age</th>\n",
       "      <th>gender</th>\n",
       "      <th>respiratory_condition</th>\n",
       "      <th>fever_muscle_pain</th>\n",
       "      <th>status</th>\n",
       "      <th>...</th>\n",
       "      <th>quality_4</th>\n",
       "      <th>cough_type_4</th>\n",
       "      <th>dyspnea_4</th>\n",
       "      <th>wheezing_4</th>\n",
       "      <th>stridor_4</th>\n",
       "      <th>choking_4</th>\n",
       "      <th>congestion_4</th>\n",
       "      <th>nothing_4</th>\n",
       "      <th>diagnosis_4</th>\n",
       "      <th>severity_4</th>\n",
       "    </tr>\n",
       "  </thead>\n",
       "  <tbody>\n",
       "    <tr>\n",
       "      <th>0</th>\n",
       "      <td>0.986853</td>\n",
       "      <td>0.0306</td>\n",
       "      <td>12.713480</td>\n",
       "      <td>13.8</td>\n",
       "      <td>-89.6</td>\n",
       "      <td>NaN</td>\n",
       "      <td>female</td>\n",
       "      <td>False</td>\n",
       "      <td>True</td>\n",
       "      <td>COVID-19</td>\n",
       "      <td>...</td>\n",
       "      <td>NaN</td>\n",
       "      <td>NaN</td>\n",
       "      <td>NaN</td>\n",
       "      <td>NaN</td>\n",
       "      <td>NaN</td>\n",
       "      <td>NaN</td>\n",
       "      <td>NaN</td>\n",
       "      <td>NaN</td>\n",
       "      <td>NaN</td>\n",
       "      <td>NaN</td>\n",
       "    </tr>\n",
       "    <tr>\n",
       "      <th>1</th>\n",
       "      <td>0.005177</td>\n",
       "      <td>0.0576</td>\n",
       "      <td>0.000000</td>\n",
       "      <td>46.8</td>\n",
       "      <td>6.6</td>\n",
       "      <td>NaN</td>\n",
       "      <td>male</td>\n",
       "      <td>True</td>\n",
       "      <td>False</td>\n",
       "      <td>COVID-19</td>\n",
       "      <td>...</td>\n",
       "      <td>NaN</td>\n",
       "      <td>NaN</td>\n",
       "      <td>NaN</td>\n",
       "      <td>NaN</td>\n",
       "      <td>NaN</td>\n",
       "      <td>NaN</td>\n",
       "      <td>NaN</td>\n",
       "      <td>NaN</td>\n",
       "      <td>NaN</td>\n",
       "      <td>NaN</td>\n",
       "    </tr>\n",
       "    <tr>\n",
       "      <th>2</th>\n",
       "      <td>-0.124921</td>\n",
       "      <td>0.2798</td>\n",
       "      <td>12.695962</td>\n",
       "      <td>NaN</td>\n",
       "      <td>NaN</td>\n",
       "      <td>NaN</td>\n",
       "      <td>other</td>\n",
       "      <td>False</td>\n",
       "      <td>False</td>\n",
       "      <td>COVID-19</td>\n",
       "      <td>...</td>\n",
       "      <td>NaN</td>\n",
       "      <td>NaN</td>\n",
       "      <td>NaN</td>\n",
       "      <td>NaN</td>\n",
       "      <td>NaN</td>\n",
       "      <td>NaN</td>\n",
       "      <td>NaN</td>\n",
       "      <td>NaN</td>\n",
       "      <td>NaN</td>\n",
       "      <td>NaN</td>\n",
       "    </tr>\n",
       "    <tr>\n",
       "      <th>3</th>\n",
       "      <td>-0.022270</td>\n",
       "      <td>0.0000</td>\n",
       "      <td>16.047069</td>\n",
       "      <td>48.9</td>\n",
       "      <td>2.5</td>\n",
       "      <td>39.0</td>\n",
       "      <td>female</td>\n",
       "      <td>False</td>\n",
       "      <td>False</td>\n",
       "      <td>COVID-19</td>\n",
       "      <td>...</td>\n",
       "      <td>no_cough</td>\n",
       "      <td>NaN</td>\n",
       "      <td>False</td>\n",
       "      <td>False</td>\n",
       "      <td>False</td>\n",
       "      <td>False</td>\n",
       "      <td>False</td>\n",
       "      <td>False</td>\n",
       "      <td>NaN</td>\n",
       "      <td>NaN</td>\n",
       "    </tr>\n",
       "    <tr>\n",
       "      <th>4</th>\n",
       "      <td>-0.116273</td>\n",
       "      <td>1.0000</td>\n",
       "      <td>12.265701</td>\n",
       "      <td>NaN</td>\n",
       "      <td>NaN</td>\n",
       "      <td>27.0</td>\n",
       "      <td>male</td>\n",
       "      <td>False</td>\n",
       "      <td>False</td>\n",
       "      <td>COVID-19</td>\n",
       "      <td>...</td>\n",
       "      <td>good</td>\n",
       "      <td>unknown</td>\n",
       "      <td>False</td>\n",
       "      <td>False</td>\n",
       "      <td>False</td>\n",
       "      <td>False</td>\n",
       "      <td>False</td>\n",
       "      <td>True</td>\n",
       "      <td>obstructive_disease</td>\n",
       "      <td>mild</td>\n",
       "    </tr>\n",
       "  </tbody>\n",
       "</table>\n",
       "<p>5 rows × 50 columns</p>\n",
       "</div>"
      ],
      "text/plain": [
       "      score  cough_detected        SNR  latitude  longitude   age  gender  \\\n",
       "0  0.986853          0.0306  12.713480      13.8      -89.6   NaN  female   \n",
       "1  0.005177          0.0576   0.000000      46.8        6.6   NaN    male   \n",
       "2 -0.124921          0.2798  12.695962       NaN        NaN   NaN   other   \n",
       "3 -0.022270          0.0000  16.047069      48.9        2.5  39.0  female   \n",
       "4 -0.116273          1.0000  12.265701       NaN        NaN  27.0    male   \n",
       "\n",
       "   respiratory_condition  fever_muscle_pain    status  ... quality_4  \\\n",
       "0                  False               True  COVID-19  ...       NaN   \n",
       "1                   True              False  COVID-19  ...       NaN   \n",
       "2                  False              False  COVID-19  ...       NaN   \n",
       "3                  False              False  COVID-19  ...  no_cough   \n",
       "4                  False              False  COVID-19  ...      good   \n",
       "\n",
       "  cough_type_4 dyspnea_4 wheezing_4 stridor_4 choking_4 congestion_4  \\\n",
       "0          NaN       NaN        NaN       NaN       NaN          NaN   \n",
       "1          NaN       NaN        NaN       NaN       NaN          NaN   \n",
       "2          NaN       NaN        NaN       NaN       NaN          NaN   \n",
       "3          NaN     False      False     False     False        False   \n",
       "4      unknown     False      False     False     False        False   \n",
       "\n",
       "  nothing_4          diagnosis_4 severity_4  \n",
       "0       NaN                  NaN        NaN  \n",
       "1       NaN                  NaN        NaN  \n",
       "2       NaN                  NaN        NaN  \n",
       "3     False                  NaN        NaN  \n",
       "4      True  obstructive_disease       mild  \n",
       "\n",
       "[5 rows x 50 columns]"
      ]
     },
     "execution_count": 6,
     "metadata": {},
     "output_type": "execute_result"
    }
   ],
   "source": [
    "cleaned.head()"
   ]
  },
  {
   "cell_type": "code",
   "execution_count": 7,
   "metadata": {
    "colab": {
     "base_uri": "https://localhost:8080/"
    },
    "id": "gukfPKb_PO2D",
    "outputId": "b4f48f69-1458-4a70-8eca-74d53191757b",
    "tags": []
   },
   "outputs": [
    {
     "data": {
      "text/plain": [
       "array(['COVID-19', 'healthy'], dtype=object)"
      ]
     },
     "execution_count": 7,
     "metadata": {},
     "output_type": "execute_result"
    }
   ],
   "source": [
    "cleaned.status.unique()"
   ]
  },
  {
   "cell_type": "code",
   "execution_count": 8,
   "metadata": {
    "id": "UhfL88m6rlyf",
    "tags": []
   },
   "outputs": [],
   "source": [
    "cleaned = cleaned.fillna(method = 'bfill')"
   ]
  },
  {
   "cell_type": "markdown",
   "metadata": {
    "id": "CroaGp950s5-"
   },
   "source": [
    "Remove nans with backfill"
   ]
  },
  {
   "cell_type": "code",
   "execution_count": 9,
   "metadata": {
    "colab": {
     "base_uri": "https://localhost:8080/",
     "height": 342
    },
    "id": "jKlNVVBir5Yd",
    "outputId": "f7b20e88-1625-40ca-977d-830a0bd7aad2",
    "tags": []
   },
   "outputs": [
    {
     "data": {
      "text/html": [
       "<div>\n",
       "<style scoped>\n",
       "    .dataframe tbody tr th:only-of-type {\n",
       "        vertical-align: middle;\n",
       "    }\n",
       "\n",
       "    .dataframe tbody tr th {\n",
       "        vertical-align: top;\n",
       "    }\n",
       "\n",
       "    .dataframe thead th {\n",
       "        text-align: right;\n",
       "    }\n",
       "</style>\n",
       "<table border=\"1\" class=\"dataframe\">\n",
       "  <thead>\n",
       "    <tr style=\"text-align: right;\">\n",
       "      <th></th>\n",
       "      <th>score</th>\n",
       "      <th>cough_detected</th>\n",
       "      <th>SNR</th>\n",
       "      <th>latitude</th>\n",
       "      <th>longitude</th>\n",
       "      <th>age</th>\n",
       "      <th>gender</th>\n",
       "      <th>respiratory_condition</th>\n",
       "      <th>fever_muscle_pain</th>\n",
       "      <th>status</th>\n",
       "      <th>...</th>\n",
       "      <th>quality_4</th>\n",
       "      <th>cough_type_4</th>\n",
       "      <th>dyspnea_4</th>\n",
       "      <th>wheezing_4</th>\n",
       "      <th>stridor_4</th>\n",
       "      <th>choking_4</th>\n",
       "      <th>congestion_4</th>\n",
       "      <th>nothing_4</th>\n",
       "      <th>diagnosis_4</th>\n",
       "      <th>severity_4</th>\n",
       "    </tr>\n",
       "  </thead>\n",
       "  <tbody>\n",
       "    <tr>\n",
       "      <th>0</th>\n",
       "      <td>0.986853</td>\n",
       "      <td>0.0306</td>\n",
       "      <td>12.713480</td>\n",
       "      <td>13.8</td>\n",
       "      <td>-89.6</td>\n",
       "      <td>39.0</td>\n",
       "      <td>female</td>\n",
       "      <td>False</td>\n",
       "      <td>True</td>\n",
       "      <td>COVID-19</td>\n",
       "      <td>...</td>\n",
       "      <td>no_cough</td>\n",
       "      <td>unknown</td>\n",
       "      <td>False</td>\n",
       "      <td>False</td>\n",
       "      <td>False</td>\n",
       "      <td>False</td>\n",
       "      <td>False</td>\n",
       "      <td>False</td>\n",
       "      <td>obstructive_disease</td>\n",
       "      <td>mild</td>\n",
       "    </tr>\n",
       "    <tr>\n",
       "      <th>1</th>\n",
       "      <td>0.005177</td>\n",
       "      <td>0.0576</td>\n",
       "      <td>0.000000</td>\n",
       "      <td>46.8</td>\n",
       "      <td>6.6</td>\n",
       "      <td>39.0</td>\n",
       "      <td>male</td>\n",
       "      <td>True</td>\n",
       "      <td>False</td>\n",
       "      <td>COVID-19</td>\n",
       "      <td>...</td>\n",
       "      <td>no_cough</td>\n",
       "      <td>unknown</td>\n",
       "      <td>False</td>\n",
       "      <td>False</td>\n",
       "      <td>False</td>\n",
       "      <td>False</td>\n",
       "      <td>False</td>\n",
       "      <td>False</td>\n",
       "      <td>obstructive_disease</td>\n",
       "      <td>mild</td>\n",
       "    </tr>\n",
       "    <tr>\n",
       "      <th>2</th>\n",
       "      <td>-0.124921</td>\n",
       "      <td>0.2798</td>\n",
       "      <td>12.695962</td>\n",
       "      <td>48.9</td>\n",
       "      <td>2.5</td>\n",
       "      <td>39.0</td>\n",
       "      <td>other</td>\n",
       "      <td>False</td>\n",
       "      <td>False</td>\n",
       "      <td>COVID-19</td>\n",
       "      <td>...</td>\n",
       "      <td>no_cough</td>\n",
       "      <td>unknown</td>\n",
       "      <td>False</td>\n",
       "      <td>False</td>\n",
       "      <td>False</td>\n",
       "      <td>False</td>\n",
       "      <td>False</td>\n",
       "      <td>False</td>\n",
       "      <td>obstructive_disease</td>\n",
       "      <td>mild</td>\n",
       "    </tr>\n",
       "    <tr>\n",
       "      <th>3</th>\n",
       "      <td>-0.022270</td>\n",
       "      <td>0.0000</td>\n",
       "      <td>16.047069</td>\n",
       "      <td>48.9</td>\n",
       "      <td>2.5</td>\n",
       "      <td>39.0</td>\n",
       "      <td>female</td>\n",
       "      <td>False</td>\n",
       "      <td>False</td>\n",
       "      <td>COVID-19</td>\n",
       "      <td>...</td>\n",
       "      <td>no_cough</td>\n",
       "      <td>unknown</td>\n",
       "      <td>False</td>\n",
       "      <td>False</td>\n",
       "      <td>False</td>\n",
       "      <td>False</td>\n",
       "      <td>False</td>\n",
       "      <td>False</td>\n",
       "      <td>obstructive_disease</td>\n",
       "      <td>mild</td>\n",
       "    </tr>\n",
       "    <tr>\n",
       "      <th>4</th>\n",
       "      <td>-0.116273</td>\n",
       "      <td>1.0000</td>\n",
       "      <td>12.265701</td>\n",
       "      <td>41.6</td>\n",
       "      <td>2.0</td>\n",
       "      <td>27.0</td>\n",
       "      <td>male</td>\n",
       "      <td>False</td>\n",
       "      <td>False</td>\n",
       "      <td>COVID-19</td>\n",
       "      <td>...</td>\n",
       "      <td>good</td>\n",
       "      <td>unknown</td>\n",
       "      <td>False</td>\n",
       "      <td>False</td>\n",
       "      <td>False</td>\n",
       "      <td>False</td>\n",
       "      <td>False</td>\n",
       "      <td>True</td>\n",
       "      <td>obstructive_disease</td>\n",
       "      <td>mild</td>\n",
       "    </tr>\n",
       "  </tbody>\n",
       "</table>\n",
       "<p>5 rows × 50 columns</p>\n",
       "</div>"
      ],
      "text/plain": [
       "      score  cough_detected        SNR  latitude  longitude   age  gender  \\\n",
       "0  0.986853          0.0306  12.713480      13.8      -89.6  39.0  female   \n",
       "1  0.005177          0.0576   0.000000      46.8        6.6  39.0    male   \n",
       "2 -0.124921          0.2798  12.695962      48.9        2.5  39.0   other   \n",
       "3 -0.022270          0.0000  16.047069      48.9        2.5  39.0  female   \n",
       "4 -0.116273          1.0000  12.265701      41.6        2.0  27.0    male   \n",
       "\n",
       "   respiratory_condition  fever_muscle_pain    status  ... quality_4  \\\n",
       "0                  False               True  COVID-19  ...  no_cough   \n",
       "1                   True              False  COVID-19  ...  no_cough   \n",
       "2                  False              False  COVID-19  ...  no_cough   \n",
       "3                  False              False  COVID-19  ...  no_cough   \n",
       "4                  False              False  COVID-19  ...      good   \n",
       "\n",
       "  cough_type_4 dyspnea_4 wheezing_4 stridor_4 choking_4 congestion_4  \\\n",
       "0      unknown     False      False     False     False        False   \n",
       "1      unknown     False      False     False     False        False   \n",
       "2      unknown     False      False     False     False        False   \n",
       "3      unknown     False      False     False     False        False   \n",
       "4      unknown     False      False     False     False        False   \n",
       "\n",
       "  nothing_4          diagnosis_4 severity_4  \n",
       "0     False  obstructive_disease       mild  \n",
       "1     False  obstructive_disease       mild  \n",
       "2     False  obstructive_disease       mild  \n",
       "3     False  obstructive_disease       mild  \n",
       "4      True  obstructive_disease       mild  \n",
       "\n",
       "[5 rows x 50 columns]"
      ]
     },
     "execution_count": 9,
     "metadata": {},
     "output_type": "execute_result"
    }
   ],
   "source": [
    "cleaned.head()"
   ]
  },
  {
   "cell_type": "code",
   "execution_count": 10,
   "metadata": {
    "id": "3JiDsxuPk8sP",
    "tags": []
   },
   "outputs": [],
   "source": [
    "cleaneddummied = pd.get_dummies(cleaned)"
   ]
  },
  {
   "cell_type": "code",
   "execution_count": 11,
   "metadata": {
    "colab": {
     "base_uri": "https://localhost:8080/"
    },
    "id": "_v-Au99tk-z4",
    "outputId": "3eeda4e3-8310-4a59-bae9-5d7c98db4e47",
    "tags": []
   },
   "outputs": [
    {
     "data": {
      "text/plain": [
       "Index(['score', 'cough_detected', 'SNR', 'latitude', 'longitude', 'age',\n",
       "       'respiratory_condition', 'fever_muscle_pain', 'gender_female',\n",
       "       'gender_male',\n",
       "       ...\n",
       "       'nothing_4_True', 'diagnosis_4_COVID-19', 'diagnosis_4_healthy_cough',\n",
       "       'diagnosis_4_lower_infection', 'diagnosis_4_obstructive_disease',\n",
       "       'diagnosis_4_upper_infection', 'severity_4_mild',\n",
       "       'severity_4_pseudocough', 'severity_4_severe', 'severity_4_unknown'],\n",
       "      dtype='object', length=119)"
      ]
     },
     "execution_count": 11,
     "metadata": {},
     "output_type": "execute_result"
    }
   ],
   "source": [
    "cleaneddummied.columns"
   ]
  },
  {
   "cell_type": "code",
   "execution_count": 12,
   "metadata": {
    "colab": {
     "base_uri": "https://localhost:8080/",
     "height": 273
    },
    "id": "S7OPU85yoCbI",
    "outputId": "198c2560-8bb0-4291-b820-f581590b7857",
    "tags": []
   },
   "outputs": [
    {
     "data": {
      "text/html": [
       "<div>\n",
       "<style scoped>\n",
       "    .dataframe tbody tr th:only-of-type {\n",
       "        vertical-align: middle;\n",
       "    }\n",
       "\n",
       "    .dataframe tbody tr th {\n",
       "        vertical-align: top;\n",
       "    }\n",
       "\n",
       "    .dataframe thead th {\n",
       "        text-align: right;\n",
       "    }\n",
       "</style>\n",
       "<table border=\"1\" class=\"dataframe\">\n",
       "  <thead>\n",
       "    <tr style=\"text-align: right;\">\n",
       "      <th></th>\n",
       "      <th>score</th>\n",
       "      <th>cough_detected</th>\n",
       "      <th>SNR</th>\n",
       "      <th>latitude</th>\n",
       "      <th>longitude</th>\n",
       "      <th>age</th>\n",
       "      <th>respiratory_condition</th>\n",
       "      <th>fever_muscle_pain</th>\n",
       "      <th>gender_female</th>\n",
       "      <th>gender_male</th>\n",
       "      <th>...</th>\n",
       "      <th>nothing_4_True</th>\n",
       "      <th>diagnosis_4_COVID-19</th>\n",
       "      <th>diagnosis_4_healthy_cough</th>\n",
       "      <th>diagnosis_4_lower_infection</th>\n",
       "      <th>diagnosis_4_obstructive_disease</th>\n",
       "      <th>diagnosis_4_upper_infection</th>\n",
       "      <th>severity_4_mild</th>\n",
       "      <th>severity_4_pseudocough</th>\n",
       "      <th>severity_4_severe</th>\n",
       "      <th>severity_4_unknown</th>\n",
       "    </tr>\n",
       "  </thead>\n",
       "  <tbody>\n",
       "    <tr>\n",
       "      <th>0</th>\n",
       "      <td>0.986853</td>\n",
       "      <td>0.0306</td>\n",
       "      <td>12.713480</td>\n",
       "      <td>13.8</td>\n",
       "      <td>-89.6</td>\n",
       "      <td>39.0</td>\n",
       "      <td>False</td>\n",
       "      <td>True</td>\n",
       "      <td>True</td>\n",
       "      <td>False</td>\n",
       "      <td>...</td>\n",
       "      <td>False</td>\n",
       "      <td>False</td>\n",
       "      <td>False</td>\n",
       "      <td>False</td>\n",
       "      <td>True</td>\n",
       "      <td>False</td>\n",
       "      <td>True</td>\n",
       "      <td>False</td>\n",
       "      <td>False</td>\n",
       "      <td>False</td>\n",
       "    </tr>\n",
       "    <tr>\n",
       "      <th>1</th>\n",
       "      <td>0.005177</td>\n",
       "      <td>0.0576</td>\n",
       "      <td>0.000000</td>\n",
       "      <td>46.8</td>\n",
       "      <td>6.6</td>\n",
       "      <td>39.0</td>\n",
       "      <td>True</td>\n",
       "      <td>False</td>\n",
       "      <td>False</td>\n",
       "      <td>True</td>\n",
       "      <td>...</td>\n",
       "      <td>False</td>\n",
       "      <td>False</td>\n",
       "      <td>False</td>\n",
       "      <td>False</td>\n",
       "      <td>True</td>\n",
       "      <td>False</td>\n",
       "      <td>True</td>\n",
       "      <td>False</td>\n",
       "      <td>False</td>\n",
       "      <td>False</td>\n",
       "    </tr>\n",
       "    <tr>\n",
       "      <th>2</th>\n",
       "      <td>-0.124921</td>\n",
       "      <td>0.2798</td>\n",
       "      <td>12.695962</td>\n",
       "      <td>48.9</td>\n",
       "      <td>2.5</td>\n",
       "      <td>39.0</td>\n",
       "      <td>False</td>\n",
       "      <td>False</td>\n",
       "      <td>False</td>\n",
       "      <td>False</td>\n",
       "      <td>...</td>\n",
       "      <td>False</td>\n",
       "      <td>False</td>\n",
       "      <td>False</td>\n",
       "      <td>False</td>\n",
       "      <td>True</td>\n",
       "      <td>False</td>\n",
       "      <td>True</td>\n",
       "      <td>False</td>\n",
       "      <td>False</td>\n",
       "      <td>False</td>\n",
       "    </tr>\n",
       "    <tr>\n",
       "      <th>3</th>\n",
       "      <td>-0.022270</td>\n",
       "      <td>0.0000</td>\n",
       "      <td>16.047069</td>\n",
       "      <td>48.9</td>\n",
       "      <td>2.5</td>\n",
       "      <td>39.0</td>\n",
       "      <td>False</td>\n",
       "      <td>False</td>\n",
       "      <td>True</td>\n",
       "      <td>False</td>\n",
       "      <td>...</td>\n",
       "      <td>False</td>\n",
       "      <td>False</td>\n",
       "      <td>False</td>\n",
       "      <td>False</td>\n",
       "      <td>True</td>\n",
       "      <td>False</td>\n",
       "      <td>True</td>\n",
       "      <td>False</td>\n",
       "      <td>False</td>\n",
       "      <td>False</td>\n",
       "    </tr>\n",
       "    <tr>\n",
       "      <th>4</th>\n",
       "      <td>-0.116273</td>\n",
       "      <td>1.0000</td>\n",
       "      <td>12.265701</td>\n",
       "      <td>41.6</td>\n",
       "      <td>2.0</td>\n",
       "      <td>27.0</td>\n",
       "      <td>False</td>\n",
       "      <td>False</td>\n",
       "      <td>False</td>\n",
       "      <td>True</td>\n",
       "      <td>...</td>\n",
       "      <td>True</td>\n",
       "      <td>False</td>\n",
       "      <td>False</td>\n",
       "      <td>False</td>\n",
       "      <td>True</td>\n",
       "      <td>False</td>\n",
       "      <td>True</td>\n",
       "      <td>False</td>\n",
       "      <td>False</td>\n",
       "      <td>False</td>\n",
       "    </tr>\n",
       "  </tbody>\n",
       "</table>\n",
       "<p>5 rows × 119 columns</p>\n",
       "</div>"
      ],
      "text/plain": [
       "      score  cough_detected        SNR  latitude  longitude   age  \\\n",
       "0  0.986853          0.0306  12.713480      13.8      -89.6  39.0   \n",
       "1  0.005177          0.0576   0.000000      46.8        6.6  39.0   \n",
       "2 -0.124921          0.2798  12.695962      48.9        2.5  39.0   \n",
       "3 -0.022270          0.0000  16.047069      48.9        2.5  39.0   \n",
       "4 -0.116273          1.0000  12.265701      41.6        2.0  27.0   \n",
       "\n",
       "   respiratory_condition  fever_muscle_pain  gender_female  gender_male  ...  \\\n",
       "0                  False               True           True        False  ...   \n",
       "1                   True              False          False         True  ...   \n",
       "2                  False              False          False        False  ...   \n",
       "3                  False              False           True        False  ...   \n",
       "4                  False              False          False         True  ...   \n",
       "\n",
       "   nothing_4_True  diagnosis_4_COVID-19  diagnosis_4_healthy_cough  \\\n",
       "0           False                 False                      False   \n",
       "1           False                 False                      False   \n",
       "2           False                 False                      False   \n",
       "3           False                 False                      False   \n",
       "4            True                 False                      False   \n",
       "\n",
       "   diagnosis_4_lower_infection  diagnosis_4_obstructive_disease  \\\n",
       "0                        False                             True   \n",
       "1                        False                             True   \n",
       "2                        False                             True   \n",
       "3                        False                             True   \n",
       "4                        False                             True   \n",
       "\n",
       "   diagnosis_4_upper_infection  severity_4_mild  severity_4_pseudocough  \\\n",
       "0                        False             True                   False   \n",
       "1                        False             True                   False   \n",
       "2                        False             True                   False   \n",
       "3                        False             True                   False   \n",
       "4                        False             True                   False   \n",
       "\n",
       "   severity_4_severe  severity_4_unknown  \n",
       "0              False               False  \n",
       "1              False               False  \n",
       "2              False               False  \n",
       "3              False               False  \n",
       "4              False               False  \n",
       "\n",
       "[5 rows x 119 columns]"
      ]
     },
     "execution_count": 12,
     "metadata": {},
     "output_type": "execute_result"
    }
   ],
   "source": [
    "cleaneddummied.head()"
   ]
  },
  {
   "cell_type": "code",
   "execution_count": 13,
   "metadata": {
    "id": "auPwZdQ4ookL",
    "tags": []
   },
   "outputs": [],
   "source": [
    "cleaneddummied.rename(columns = {'status_COVID-19':'statusCOVID19'}, inplace=True)"
   ]
  },
  {
   "cell_type": "code",
   "execution_count": 14,
   "metadata": {
    "colab": {
     "base_uri": "https://localhost:8080/"
    },
    "id": "oeQRS718o-zU",
    "outputId": "bf2bd30e-f5dd-4973-afa5-dd090f033179",
    "tags": []
   },
   "outputs": [
    {
     "data": {
      "text/plain": [
       "['score',\n",
       " 'cough_detected',\n",
       " 'SNR',\n",
       " 'latitude',\n",
       " 'longitude',\n",
       " 'age',\n",
       " 'respiratory_condition',\n",
       " 'fever_muscle_pain',\n",
       " 'gender_female',\n",
       " 'gender_male',\n",
       " 'gender_other',\n",
       " 'statusCOVID19',\n",
       " 'status_healthy',\n",
       " 'quality_1_good',\n",
       " 'quality_1_no_cough',\n",
       " 'quality_1_ok',\n",
       " 'quality_1_poor',\n",
       " 'cough_type_1_dry',\n",
       " 'cough_type_1_unknown',\n",
       " 'cough_type_1_wet',\n",
       " 'dyspnea_1_False',\n",
       " 'dyspnea_1_True',\n",
       " 'wheezing_1_False',\n",
       " 'wheezing_1_True',\n",
       " 'stridor_1_False',\n",
       " 'choking_1_False',\n",
       " 'congestion_1_False',\n",
       " 'congestion_1_True',\n",
       " 'nothing_1_False',\n",
       " 'nothing_1_True',\n",
       " 'diagnosis_1_COVID-19',\n",
       " 'diagnosis_1_healthy_cough',\n",
       " 'diagnosis_1_lower_infection',\n",
       " 'diagnosis_1_obstructive_disease',\n",
       " 'diagnosis_1_upper_infection',\n",
       " 'severity_1_mild',\n",
       " 'severity_1_pseudocough',\n",
       " 'severity_1_severe',\n",
       " 'severity_1_unknown',\n",
       " 'quality_2_good',\n",
       " 'quality_2_no_cough',\n",
       " 'quality_2_ok',\n",
       " 'quality_2_poor',\n",
       " 'cough_type_2_dry',\n",
       " 'cough_type_2_unknown',\n",
       " 'cough_type_2_wet',\n",
       " 'dyspnea_2_False',\n",
       " 'dyspnea_2_True',\n",
       " 'wheezing_2_False',\n",
       " 'wheezing_2_True',\n",
       " 'stridor_2_False',\n",
       " 'stridor_2_True',\n",
       " 'choking_2_False',\n",
       " 'choking_2_True',\n",
       " 'congestion_2_False',\n",
       " 'congestion_2_True',\n",
       " 'nothing_2_False',\n",
       " 'nothing_2_True',\n",
       " 'diagnosis_2_COVID-19',\n",
       " 'diagnosis_2_healthy_cough',\n",
       " 'diagnosis_2_lower_infection',\n",
       " 'diagnosis_2_obstructive_disease',\n",
       " 'diagnosis_2_upper_infection',\n",
       " 'severity_2_mild',\n",
       " 'severity_2_pseudocough',\n",
       " 'severity_2_severe',\n",
       " 'severity_2_unknown',\n",
       " 'quality_3_good',\n",
       " 'quality_3_no_cough',\n",
       " 'quality_3_ok',\n",
       " 'quality_3_poor',\n",
       " 'cough_type_3_dry',\n",
       " 'cough_type_3_unknown',\n",
       " 'cough_type_3_wet',\n",
       " 'dyspnea_3_False',\n",
       " 'wheezing_3_False',\n",
       " 'stridor_3_False',\n",
       " 'stridor_3_True',\n",
       " 'choking_3_False',\n",
       " 'congestion_3_False',\n",
       " 'congestion_3_True',\n",
       " 'nothing_3_False',\n",
       " 'nothing_3_True',\n",
       " 'diagnosis_3_COVID-19',\n",
       " 'diagnosis_3_healthy_cough',\n",
       " 'diagnosis_3_lower_infection',\n",
       " 'diagnosis_3_obstructive_disease',\n",
       " 'diagnosis_3_upper_infection',\n",
       " 'severity_3_mild',\n",
       " 'severity_3_pseudocough',\n",
       " 'severity_3_severe',\n",
       " 'severity_3_unknown',\n",
       " 'quality_4_good',\n",
       " 'quality_4_no_cough',\n",
       " 'quality_4_ok',\n",
       " 'quality_4_poor',\n",
       " 'cough_type_4_dry',\n",
       " 'cough_type_4_unknown',\n",
       " 'cough_type_4_wet',\n",
       " 'dyspnea_4_False',\n",
       " 'dyspnea_4_True',\n",
       " 'wheezing_4_False',\n",
       " 'wheezing_4_True',\n",
       " 'stridor_4_False',\n",
       " 'stridor_4_True',\n",
       " 'choking_4_False',\n",
       " 'congestion_4_False',\n",
       " 'congestion_4_True',\n",
       " 'nothing_4_False',\n",
       " 'nothing_4_True',\n",
       " 'diagnosis_4_COVID-19',\n",
       " 'diagnosis_4_healthy_cough',\n",
       " 'diagnosis_4_lower_infection',\n",
       " 'diagnosis_4_obstructive_disease',\n",
       " 'diagnosis_4_upper_infection',\n",
       " 'severity_4_mild',\n",
       " 'severity_4_pseudocough',\n",
       " 'severity_4_severe',\n",
       " 'severity_4_unknown']"
      ]
     },
     "execution_count": 14,
     "metadata": {},
     "output_type": "execute_result"
    }
   ],
   "source": [
    "cleaneddummied.columns.tolist()"
   ]
  },
  {
   "cell_type": "markdown",
   "metadata": {},
   "source": [
    "## What is the AUC if you use only the `score` data from the spectrograms to predict COVID status? "
   ]
  },
  {
   "cell_type": "code",
   "execution_count": 15,
   "metadata": {
    "tags": []
   },
   "outputs": [
    {
     "name": "stdout",
     "output_type": "stream",
     "text": [
      "ROC AUC: 0.6886\n"
     ]
    }
   ],
   "source": [
    "score = roc_auc_score(cleaneddummied.statusCOVID19, cleaneddummied.score)\n",
    "print(f\"ROC AUC: {score:.4f}\")"
   ]
  },
  {
   "cell_type": "code",
   "execution_count": 16,
   "metadata": {
    "tags": []
   },
   "outputs": [],
   "source": [
    "fpr1, tpr1, thresh1 = roc_curve(cleaneddummied.statusCOVID19, cleaneddummied.score)\n"
   ]
  },
  {
   "cell_type": "code",
   "execution_count": 17,
   "metadata": {
    "tags": []
   },
   "outputs": [
    {
     "data": {
      "text/plain": [
       "[<matplotlib.lines.Line2D at 0x1be96a39e80>]"
      ]
     },
     "execution_count": 17,
     "metadata": {},
     "output_type": "execute_result"
    },
    {
     "data": {
      "image/png": "[encoded data removed]",
      "text/plain": [
       "<Figure size 640x480 with 1 Axes>"
      ]
     },
     "metadata": {},
     "output_type": "display_data"
    }
   ],
   "source": [
    "import matplotlib.pyplot as plt\n",
    "\n",
    "plt.plot(fpr1, tpr1)"
   ]
  },
  {
   "cell_type": "markdown",
   "metadata": {
    "id": "8brl8JoEvCiq"
   },
   "source": [
    "## Logistic Regression"
   ]
  },
  {
   "cell_type": "code",
   "execution_count": 18,
   "metadata": {
    "id": "3GQBKZTOPX0q",
    "tags": []
   },
   "outputs": [],
   "source": [
    "from sklearn.linear_model import LogisticRegression\n",
    "from sklearn.metrics import classification_report, confusion_matrix\n",
    "#cleaneddummied = cleaneddummied[['score','SNR','age','respiratory_condition','fever_muscle_pain','gender_female','gender_male','gender_other','statusCOVID19','status_healthy']]"
   ]
  },
  {
   "cell_type": "code",
   "execution_count": 19,
   "metadata": {
    "id": "VIPzFmYvpGiL",
    "tags": []
   },
   "outputs": [],
   "source": [
    "y = cleaneddummied.statusCOVID19"
   ]
  },
  {
   "cell_type": "code",
   "execution_count": 20,
   "metadata": {
    "tags": []
   },
   "outputs": [],
   "source": [
    "x = cleaneddummied[cleaneddummied.columns.drop(list(cleaneddummied.filter(regex='diagnosis')))]\n",
    "x = x.drop(['statusCOVID19', 'status_healthy'], axis=1)"
   ]
  },
  {
   "cell_type": "code",
   "execution_count": 21,
   "metadata": {
    "colab": {
     "base_uri": "https://localhost:8080/"
    },
    "id": "b5UJkGw9sQ7o",
    "outputId": "ff186f0b-6ca7-447f-c909-9a2914c3ef6e",
    "tags": []
   },
   "outputs": [
    {
     "data": {
      "text/plain": [
       "False"
      ]
     },
     "execution_count": 21,
     "metadata": {},
     "output_type": "execute_result"
    }
   ],
   "source": [
    "np.all(np.isfinite(x))"
   ]
  },
  {
   "cell_type": "code",
   "execution_count": 22,
   "metadata": {
    "colab": {
     "base_uri": "https://localhost:8080/"
    },
    "id": "dfQoUMC6sWGV",
    "outputId": "b9464c4a-f6ea-4392-d4d8-8bfdbb82f64e",
    "tags": []
   },
   "outputs": [
    {
     "data": {
      "text/plain": [
       "5"
      ]
     },
     "execution_count": 22,
     "metadata": {},
     "output_type": "execute_result"
    }
   ],
   "source": [
    "np.isinf(x).values.sum()"
   ]
  },
  {
   "cell_type": "code",
   "execution_count": 23,
   "metadata": {
    "colab": {
     "base_uri": "https://localhost:8080/"
    },
    "id": "1uyThg2zsnUa",
    "outputId": "96d49e53-4418-4e67-dd9d-804bf8d0b718",
    "tags": []
   },
   "outputs": [
    {
     "data": {
      "text/plain": [
       "SNR    SNR\n",
       "dtype: object"
      ]
     },
     "execution_count": 23,
     "metadata": {},
     "output_type": "execute_result"
    }
   ],
   "source": [
    "x.columns.to_series()[np.isinf(x).any()]"
   ]
  },
  {
   "cell_type": "markdown",
   "metadata": {
    "id": "qbZDp0Eb0kjK"
   },
   "source": [
    "Set all infinity values to the max real value"
   ]
  },
  {
   "cell_type": "code",
   "execution_count": 24,
   "metadata": {
    "colab": {
     "base_uri": "https://localhost:8080/"
    },
    "id": "C2pw_Y17szjt",
    "outputId": "3365f009-5521-447a-b76c-3f54131ebe36",
    "tags": []
   },
   "outputs": [
    {
     "data": {
      "text/plain": [
       "83.53848954151096"
      ]
     },
     "execution_count": 24,
     "metadata": {},
     "output_type": "execute_result"
    }
   ],
   "source": [
    "x.SNR.quantile(q=.999)"
   ]
  },
  {
   "cell_type": "code",
   "execution_count": 25,
   "metadata": {
    "colab": {
     "base_uri": "https://localhost:8080/"
    },
    "id": "ksX8pLHIs-Gi",
    "outputId": "baae5739-518e-4225-93d9-8662d95e9a5e",
    "tags": []
   },
   "outputs": [
    {
     "name": "stderr",
     "output_type": "stream",
     "text": [
      "C:\\Users\\alexa\\AppData\\Local\\Temp\\ipykernel_30852\\2340595035.py:1: SettingWithCopyWarning: \n",
      "A value is trying to be set on a copy of a slice from a DataFrame\n",
      "\n",
      "See the caveats in the documentation: https://pandas.pydata.org/pandas-docs/stable/user_guide/indexing.html#returning-a-view-versus-a-copy\n",
      "  x.SNR[5447] = 100\n"
     ]
    }
   ],
   "source": [
    "x.SNR[5447] = 100"
   ]
  },
  {
   "cell_type": "code",
   "execution_count": 26,
   "metadata": {
    "colab": {
     "base_uri": "https://localhost:8080/"
    },
    "id": "wZPcnCCltgX7",
    "outputId": "4fa3699a-3095-48f1-caa7-35b83753f981",
    "tags": []
   },
   "outputs": [
    {
     "name": "stderr",
     "output_type": "stream",
     "text": [
      "C:\\Users\\alexa\\AppData\\Local\\Temp\\ipykernel_30852\\3736724814.py:1: SettingWithCopyWarning: \n",
      "A value is trying to be set on a copy of a slice from a DataFrame\n",
      "\n",
      "See the caveats in the documentation: https://pandas.pydata.org/pandas-docs/stable/user_guide/indexing.html#returning-a-view-versus-a-copy\n",
      "  x.SNR[6252] = 100\n"
     ]
    }
   ],
   "source": [
    "x.SNR[6252] = 100"
   ]
  },
  {
   "cell_type": "code",
   "execution_count": 27,
   "metadata": {
    "colab": {
     "base_uri": "https://localhost:8080/"
    },
    "id": "hQiOxEKhtiOX",
    "outputId": "d202699e-8aa9-49ab-a60e-4ca1dacf5389",
    "tags": []
   },
   "outputs": [
    {
     "name": "stderr",
     "output_type": "stream",
     "text": [
      "C:\\Users\\alexa\\AppData\\Local\\Temp\\ipykernel_30852\\206539196.py:1: SettingWithCopyWarning: \n",
      "A value is trying to be set on a copy of a slice from a DataFrame\n",
      "\n",
      "See the caveats in the documentation: https://pandas.pydata.org/pandas-docs/stable/user_guide/indexing.html#returning-a-view-versus-a-copy\n",
      "  x.SNR[7972] = 100\n"
     ]
    }
   ],
   "source": [
    "x.SNR[7972] = 100"
   ]
  },
  {
   "cell_type": "code",
   "execution_count": 28,
   "metadata": {
    "colab": {
     "base_uri": "https://localhost:8080/"
    },
    "id": "ash_Z5Kpto3s",
    "outputId": "db018ecd-c60d-4c08-befa-b625a6c6fce1",
    "tags": []
   },
   "outputs": [
    {
     "name": "stderr",
     "output_type": "stream",
     "text": [
      "C:\\Users\\alexa\\AppData\\Local\\Temp\\ipykernel_30852\\395024427.py:1: SettingWithCopyWarning: \n",
      "A value is trying to be set on a copy of a slice from a DataFrame\n",
      "\n",
      "See the caveats in the documentation: https://pandas.pydata.org/pandas-docs/stable/user_guide/indexing.html#returning-a-view-versus-a-copy\n",
      "  x.SNR[9124] = 100\n"
     ]
    }
   ],
   "source": [
    "x.SNR[9124] = 100"
   ]
  },
  {
   "cell_type": "code",
   "execution_count": 29,
   "metadata": {
    "colab": {
     "base_uri": "https://localhost:8080/"
    },
    "id": "yB3D78wJtrO4",
    "outputId": "3c230dbc-bd04-4218-e1d6-e31fff333561",
    "tags": []
   },
   "outputs": [
    {
     "name": "stderr",
     "output_type": "stream",
     "text": [
      "C:\\Users\\alexa\\AppData\\Local\\Temp\\ipykernel_30852\\523694619.py:1: SettingWithCopyWarning: \n",
      "A value is trying to be set on a copy of a slice from a DataFrame\n",
      "\n",
      "See the caveats in the documentation: https://pandas.pydata.org/pandas-docs/stable/user_guide/indexing.html#returning-a-view-versus-a-copy\n",
      "  x.SNR[11716] = 100\n"
     ]
    }
   ],
   "source": [
    "x.SNR[11716] = 100"
   ]
  },
  {
   "cell_type": "code",
   "execution_count": 30,
   "metadata": {
    "id": "HgQ2dwJWv5JW",
    "tags": []
   },
   "outputs": [],
   "source": [
    "from sklearn.model_selection import train_test_split\n",
    "\n",
    "X_train, X_test, y_train, y_test = train_test_split(\n",
    "    x, y, test_size=0.33, random_state=777\n",
    ")"
   ]
  },
  {
   "cell_type": "code",
   "execution_count": 31,
   "metadata": {
    "id": "hK0ZiP2QP9I7",
    "tags": []
   },
   "outputs": [],
   "source": [
    "model = LogisticRegression(solver='liblinear', random_state=777)"
   ]
  },
  {
   "cell_type": "code",
   "execution_count": 32,
   "metadata": {
    "colab": {
     "base_uri": "https://localhost:8080/",
     "height": 75
    },
    "id": "3QLDIrqjttzs",
    "outputId": "f3b7d8c1-169b-4f0f-e19f-62e6194bb33e",
    "tags": []
   },
   "outputs": [
    {
     "data": {
      "text/html": [
       "<style>#sk-container-id-1 {color: black;}#sk-container-id-1 pre{padding: 0;}#sk-container-id-1 div.sk-toggleable {background-color: white;}#sk-container-id-1 label.sk-toggleable__label {cursor: pointer;display: block;width: 100%;margin-bottom: 0;padding: 0.3em;box-sizing: border-box;text-align: center;}#sk-container-id-1 label.sk-toggleable__label-arrow:before {content: \"▸\";float: left;margin-right: 0.25em;color: #696969;}#sk-container-id-1 label.sk-toggleable__label-arrow:hover:before {color: black;}#sk-container-id-1 div.sk-estimator:hover label.sk-toggleable__label-arrow:before {color: black;}#sk-container-id-1 div.sk-toggleable__content {max-height: 0;max-width: 0;overflow: hidden;text-align: left;background-color: #f0f8ff;}#sk-container-id-1 div.sk-toggleable__content pre {margin: 0.2em;color: black;border-radius: 0.25em;background-color: #f0f8ff;}#sk-container-id-1 input.sk-toggleable__control:checked~div.sk-toggleable__content {max-height: 200px;max-width: 100%;overflow: auto;}#sk-container-id-1 input.sk-toggleable__control:checked~label.sk-toggleable__label-arrow:before {content: \"▾\";}#sk-container-id-1 div.sk-estimator input.sk-toggleable__control:checked~label.sk-toggleable__label {background-color: #d4ebff;}#sk-container-id-1 div.sk-label input.sk-toggleable__control:checked~label.sk-toggleable__label {background-color: #d4ebff;}#sk-container-id-1 input.sk-hidden--visually {border: 0;clip: rect(1px 1px 1px 1px);clip: rect(1px, 1px, 1px, 1px);height: 1px;margin: -1px;overflow: hidden;padding: 0;position: absolute;width: 1px;}#sk-container-id-1 div.sk-estimator {font-family: monospace;background-color: #f0f8ff;border: 1px dotted black;border-radius: 0.25em;box-sizing: border-box;margin-bottom: 0.5em;}#sk-container-id-1 div.sk-estimator:hover {background-color: #d4ebff;}#sk-container-id-1 div.sk-parallel-item::after {content: \"\";width: 100%;border-bottom: 1px solid gray;flex-grow: 1;}#sk-container-id-1 div.sk-label:hover label.sk-toggleable__label {background-color: #d4ebff;}#sk-container-id-1 div.sk-serial::before {content: \"\";position: absolute;border-left: 1px solid gray;box-sizing: border-box;top: 0;bottom: 0;left: 50%;z-index: 0;}#sk-container-id-1 div.sk-serial {display: flex;flex-direction: column;align-items: center;background-color: white;padding-right: 0.2em;padding-left: 0.2em;position: relative;}#sk-container-id-1 div.sk-item {position: relative;z-index: 1;}#sk-container-id-1 div.sk-parallel {display: flex;align-items: stretch;justify-content: center;background-color: white;position: relative;}#sk-container-id-1 div.sk-item::before, #sk-container-id-1 div.sk-parallel-item::before {content: \"\";position: absolute;border-left: 1px solid gray;box-sizing: border-box;top: 0;bottom: 0;left: 50%;z-index: -1;}#sk-container-id-1 div.sk-parallel-item {display: flex;flex-direction: column;z-index: 1;position: relative;background-color: white;}#sk-container-id-1 div.sk-parallel-item:first-child::after {align-self: flex-end;width: 50%;}#sk-container-id-1 div.sk-parallel-item:last-child::after {align-self: flex-start;width: 50%;}#sk-container-id-1 div.sk-parallel-item:only-child::after {width: 0;}#sk-container-id-1 div.sk-dashed-wrapped {border: 1px dashed gray;margin: 0 0.4em 0.5em 0.4em;box-sizing: border-box;padding-bottom: 0.4em;background-color: white;}#sk-container-id-1 div.sk-label label {font-family: monospace;font-weight: bold;display: inline-block;line-height: 1.2em;}#sk-container-id-1 div.sk-label-container {text-align: center;}#sk-container-id-1 div.sk-container {/* jupyter's `normalize.less` sets `[hidden] { display: none; }` but bootstrap.min.css set `[hidden] { display: none !important; }` so we also need the `!important` here to be able to override the default hidden behavior on the sphinx rendered scikit-learn.org. See: https://github.com/scikit-learn/scikit-learn/issues/21755 */display: inline-block !important;position: relative;}#sk-container-id-1 div.sk-text-repr-fallback {display: none;}</style><div id=\"sk-container-id-1\" class=\"sk-top-container\"><div class=\"sk-text-repr-fallback\"><pre>LogisticRegression(random_state=777, solver=&#x27;liblinear&#x27;)</pre><b>In a Jupyter environment, please rerun this cell to show the HTML representation or trust the notebook. <br />On GitHub, the HTML representation is unable to render, please try loading this page with nbviewer.org.</b></div><div class=\"sk-container\" hidden><div class=\"sk-item\"><div class=\"sk-estimator sk-toggleable\"><input class=\"sk-toggleable__control sk-hidden--visually\" id=\"sk-estimator-id-1\" type=\"checkbox\" checked><label for=\"sk-estimator-id-1\" class=\"sk-toggleable__label sk-toggleable__label-arrow\">LogisticRegression</label><div class=\"sk-toggleable__content\"><pre>LogisticRegression(random_state=777, solver=&#x27;liblinear&#x27;)</pre></div></div></div></div></div>"
      ],
      "text/plain": [
       "LogisticRegression(random_state=777, solver='liblinear')"
      ]
     },
     "execution_count": 32,
     "metadata": {},
     "output_type": "execute_result"
    }
   ],
   "source": [
    "model.fit(X_train,y_train)"
   ]
  },
  {
   "cell_type": "code",
   "execution_count": 33,
   "metadata": {
    "colab": {
     "base_uri": "https://localhost:8080/"
    },
    "id": "nTuqWArrtxY0",
    "outputId": "e2bab669-ab54-4d08-9cd4-33532c71ca03",
    "tags": []
   },
   "outputs": [
    {
     "data": {
      "text/plain": [
       "0.9149338374291115"
      ]
     },
     "execution_count": 33,
     "metadata": {},
     "output_type": "execute_result"
    }
   ],
   "source": [
    "model.score(X_test,y_test)"
   ]
  },
  {
   "cell_type": "code",
   "execution_count": 34,
   "metadata": {
    "id": "QbHxvuBBbCs_",
    "tags": []
   },
   "outputs": [],
   "source": [
    "from sklearn.metrics import (\n",
    "    accuracy_score,\n",
    "    confusion_matrix,\n",
    "    ConfusionMatrixDisplay,\n",
    "    f1_score,\n",
    ")\n",
    "\n",
    "y_pred = model.predict(X_test)\n",
    "accuracy = accuracy_score(y_pred, y_test)\n",
    "f1 = f1_score(y_pred, y_test, average=\"weighted\")\n",
    "\n"
   ]
  },
  {
   "cell_type": "code",
   "execution_count": 35,
   "metadata": {
    "colab": {
     "base_uri": "https://localhost:8080/"
    },
    "id": "YM7b8qMH3ib8",
    "outputId": "b2c4a3de-7e25-46b1-cf05-5fb4e7ab1194",
    "tags": []
   },
   "outputs": [
    {
     "name": "stdout",
     "output_type": "stream",
     "text": [
      "Accuracy: 0.9149338374291115\n",
      "F1 Score: 0.94479691937079\n"
     ]
    }
   ],
   "source": [
    "y_pred = model.predict(X_test)\n",
    "accuracy = accuracy_score(y_pred, y_test)\n",
    "f1 = f1_score(y_pred, y_test, average=\"weighted\")\n",
    "\n",
    "print(\"Accuracy:\", accuracy)\n",
    "print(\"F1 Score:\", f1)"
   ]
  },
  {
   "cell_type": "code",
   "execution_count": 36,
   "metadata": {
    "colab": {
     "base_uri": "https://localhost:8080/"
    },
    "id": "fWEofgExt-Sm",
    "outputId": "787a6bf1-355f-47d1-a11f-a16aad67f6c3",
    "tags": []
   },
   "outputs": [
    {
     "data": {
      "text/plain": [
       "array([[3844,   26],\n",
       "       [ 334,   28]], dtype=int64)"
      ]
     },
     "execution_count": 36,
     "metadata": {},
     "output_type": "execute_result"
    }
   ],
   "source": [
    "confusion_matrix(y_test, model.predict(X_test))"
   ]
  },
  {
   "cell_type": "code",
   "execution_count": 37,
   "metadata": {
    "colab": {
     "base_uri": "https://localhost:8080/"
    },
    "id": "6KyR4VicuCAp",
    "outputId": "5333880a-505b-45bf-f8fb-997ab75380c7",
    "tags": []
   },
   "outputs": [
    {
     "name": "stdout",
     "output_type": "stream",
     "text": [
      "              precision    recall  f1-score   support\n",
      "\n",
      "       False       0.92      0.99      0.96      3870\n",
      "        True       0.52      0.08      0.13       362\n",
      "\n",
      "    accuracy                           0.91      4232\n",
      "   macro avg       0.72      0.54      0.54      4232\n",
      "weighted avg       0.89      0.91      0.89      4232\n",
      "\n"
     ]
    }
   ],
   "source": [
    "print(classification_report(y_test, model.predict(X_test)))"
   ]
  },
  {
   "cell_type": "code",
   "execution_count": 38,
   "metadata": {
    "id": "bkVhDbx3asoO",
    "tags": []
   },
   "outputs": [],
   "source": [
    "y_proba = model.predict_proba(X_test)"
   ]
  },
  {
   "cell_type": "code",
   "execution_count": 39,
   "metadata": {
    "colab": {
     "base_uri": "https://localhost:8080/"
    },
    "id": "xI5krFcFatrZ",
    "outputId": "729538d5-fc6f-437b-a4e4-93131d1a2b14",
    "tags": []
   },
   "outputs": [
    {
     "name": "stdout",
     "output_type": "stream",
     "text": [
      "ROC AUC: 0.7509\n"
     ]
    }
   ],
   "source": [
    "score = roc_auc_score(y_test, y_proba[:, 1])\n",
    "print(f\"ROC AUC: {score:.4f}\")"
   ]
  },
  {
   "cell_type": "markdown",
   "metadata": {},
   "source": [
    "Huge improvement from 0.68!"
   ]
  },
  {
   "cell_type": "markdown",
   "metadata": {
    "id": "h4NrWTZivFF3"
   },
   "source": [
    "Increasing regularization"
   ]
  },
  {
   "cell_type": "code",
   "execution_count": 40,
   "metadata": {
    "colab": {
     "base_uri": "https://localhost:8080/",
     "height": 75
    },
    "id": "CHMhxMOkucPn",
    "outputId": "a50d4beb-0e07-4a66-d5bc-14b7525ef6b2",
    "tags": []
   },
   "outputs": [
    {
     "data": {
      "text/html": [
       "<style>#sk-container-id-2 {color: black;}#sk-container-id-2 pre{padding: 0;}#sk-container-id-2 div.sk-toggleable {background-color: white;}#sk-container-id-2 label.sk-toggleable__label {cursor: pointer;display: block;width: 100%;margin-bottom: 0;padding: 0.3em;box-sizing: border-box;text-align: center;}#sk-container-id-2 label.sk-toggleable__label-arrow:before {content: \"▸\";float: left;margin-right: 0.25em;color: #696969;}#sk-container-id-2 label.sk-toggleable__label-arrow:hover:before {color: black;}#sk-container-id-2 div.sk-estimator:hover label.sk-toggleable__label-arrow:before {color: black;}#sk-container-id-2 div.sk-toggleable__content {max-height: 0;max-width: 0;overflow: hidden;text-align: left;background-color: #f0f8ff;}#sk-container-id-2 div.sk-toggleable__content pre {margin: 0.2em;color: black;border-radius: 0.25em;background-color: #f0f8ff;}#sk-container-id-2 input.sk-toggleable__control:checked~div.sk-toggleable__content {max-height: 200px;max-width: 100%;overflow: auto;}#sk-container-id-2 input.sk-toggleable__control:checked~label.sk-toggleable__label-arrow:before {content: \"▾\";}#sk-container-id-2 div.sk-estimator input.sk-toggleable__control:checked~label.sk-toggleable__label {background-color: #d4ebff;}#sk-container-id-2 div.sk-label input.sk-toggleable__control:checked~label.sk-toggleable__label {background-color: #d4ebff;}#sk-container-id-2 input.sk-hidden--visually {border: 0;clip: rect(1px 1px 1px 1px);clip: rect(1px, 1px, 1px, 1px);height: 1px;margin: -1px;overflow: hidden;padding: 0;position: absolute;width: 1px;}#sk-container-id-2 div.sk-estimator {font-family: monospace;background-color: #f0f8ff;border: 1px dotted black;border-radius: 0.25em;box-sizing: border-box;margin-bottom: 0.5em;}#sk-container-id-2 div.sk-estimator:hover {background-color: #d4ebff;}#sk-container-id-2 div.sk-parallel-item::after {content: \"\";width: 100%;border-bottom: 1px solid gray;flex-grow: 1;}#sk-container-id-2 div.sk-label:hover label.sk-toggleable__label {background-color: #d4ebff;}#sk-container-id-2 div.sk-serial::before {content: \"\";position: absolute;border-left: 1px solid gray;box-sizing: border-box;top: 0;bottom: 0;left: 50%;z-index: 0;}#sk-container-id-2 div.sk-serial {display: flex;flex-direction: column;align-items: center;background-color: white;padding-right: 0.2em;padding-left: 0.2em;position: relative;}#sk-container-id-2 div.sk-item {position: relative;z-index: 1;}#sk-container-id-2 div.sk-parallel {display: flex;align-items: stretch;justify-content: center;background-color: white;position: relative;}#sk-container-id-2 div.sk-item::before, #sk-container-id-2 div.sk-parallel-item::before {content: \"\";position: absolute;border-left: 1px solid gray;box-sizing: border-box;top: 0;bottom: 0;left: 50%;z-index: -1;}#sk-container-id-2 div.sk-parallel-item {display: flex;flex-direction: column;z-index: 1;position: relative;background-color: white;}#sk-container-id-2 div.sk-parallel-item:first-child::after {align-self: flex-end;width: 50%;}#sk-container-id-2 div.sk-parallel-item:last-child::after {align-self: flex-start;width: 50%;}#sk-container-id-2 div.sk-parallel-item:only-child::after {width: 0;}#sk-container-id-2 div.sk-dashed-wrapped {border: 1px dashed gray;margin: 0 0.4em 0.5em 0.4em;box-sizing: border-box;padding-bottom: 0.4em;background-color: white;}#sk-container-id-2 div.sk-label label {font-family: monospace;font-weight: bold;display: inline-block;line-height: 1.2em;}#sk-container-id-2 div.sk-label-container {text-align: center;}#sk-container-id-2 div.sk-container {/* jupyter's `normalize.less` sets `[hidden] { display: none; }` but bootstrap.min.css set `[hidden] { display: none !important; }` so we also need the `!important` here to be able to override the default hidden behavior on the sphinx rendered scikit-learn.org. See: https://github.com/scikit-learn/scikit-learn/issues/21755 */display: inline-block !important;position: relative;}#sk-container-id-2 div.sk-text-repr-fallback {display: none;}</style><div id=\"sk-container-id-2\" class=\"sk-top-container\"><div class=\"sk-text-repr-fallback\"><pre>LogisticRegression(C=10.0, random_state=777, solver=&#x27;liblinear&#x27;)</pre><b>In a Jupyter environment, please rerun this cell to show the HTML representation or trust the notebook. <br />On GitHub, the HTML representation is unable to render, please try loading this page with nbviewer.org.</b></div><div class=\"sk-container\" hidden><div class=\"sk-item\"><div class=\"sk-estimator sk-toggleable\"><input class=\"sk-toggleable__control sk-hidden--visually\" id=\"sk-estimator-id-2\" type=\"checkbox\" checked><label for=\"sk-estimator-id-2\" class=\"sk-toggleable__label sk-toggleable__label-arrow\">LogisticRegression</label><div class=\"sk-toggleable__content\"><pre>LogisticRegression(C=10.0, random_state=777, solver=&#x27;liblinear&#x27;)</pre></div></div></div></div></div>"
      ],
      "text/plain": [
       "LogisticRegression(C=10.0, random_state=777, solver='liblinear')"
      ]
     },
     "execution_count": 40,
     "metadata": {},
     "output_type": "execute_result"
    }
   ],
   "source": [
    "model = LogisticRegression(solver='liblinear', C=10.0, random_state=777)\n",
    "model.fit(X_train, y_train)"
   ]
  },
  {
   "cell_type": "code",
   "execution_count": 41,
   "metadata": {
    "colab": {
     "base_uri": "https://localhost:8080/"
    },
    "id": "WJIdg7AcvSCI",
    "outputId": "3713dd46-c643-4659-d861-84beaecebcdc",
    "tags": []
   },
   "outputs": [
    {
     "data": {
      "text/plain": [
       "0.9146975425330813"
      ]
     },
     "execution_count": 41,
     "metadata": {},
     "output_type": "execute_result"
    }
   ],
   "source": [
    "model.score(X_test,y_test)"
   ]
  },
  {
   "cell_type": "code",
   "execution_count": 42,
   "metadata": {
    "colab": {
     "base_uri": "https://localhost:8080/"
    },
    "id": "SydgmM643suS",
    "outputId": "361fbf4c-905f-45f3-87d4-0f4763c320e0",
    "tags": []
   },
   "outputs": [
    {
     "name": "stdout",
     "output_type": "stream",
     "text": [
      "Accuracy: 0.9146975425330813\n",
      "F1 Score: 0.9448173476923631\n"
     ]
    }
   ],
   "source": [
    "y_pred = model.predict(X_test)\n",
    "accuracy = accuracy_score(y_pred, y_test)\n",
    "f1 = f1_score(y_pred, y_test, average=\"weighted\")\n",
    "\n",
    "print(\"Accuracy:\", accuracy)\n",
    "print(\"F1 Score:\", f1)"
   ]
  },
  {
   "cell_type": "code",
   "execution_count": 43,
   "metadata": {
    "colab": {
     "base_uri": "https://localhost:8080/"
    },
    "id": "X5TTPNIwvY9M",
    "outputId": "37a7e752-fa24-47ad-db85-2bd9a7d85a93",
    "tags": []
   },
   "outputs": [
    {
     "data": {
      "text/plain": [
       "array([[3844,   26],\n",
       "       [ 335,   27]], dtype=int64)"
      ]
     },
     "execution_count": 43,
     "metadata": {},
     "output_type": "execute_result"
    }
   ],
   "source": [
    "confusion_matrix(y_test, model.predict(X_test))"
   ]
  },
  {
   "cell_type": "code",
   "execution_count": 44,
   "metadata": {
    "colab": {
     "base_uri": "https://localhost:8080/"
    },
    "id": "ySInezVOvbep",
    "outputId": "82c8f72a-cf47-49b8-cf58-1026fd305c2c",
    "tags": []
   },
   "outputs": [
    {
     "name": "stdout",
     "output_type": "stream",
     "text": [
      "              precision    recall  f1-score   support\n",
      "\n",
      "       False       0.92      0.99      0.96      3870\n",
      "        True       0.51      0.07      0.13       362\n",
      "\n",
      "    accuracy                           0.91      4232\n",
      "   macro avg       0.71      0.53      0.54      4232\n",
      "weighted avg       0.88      0.91      0.88      4232\n",
      "\n"
     ]
    }
   ],
   "source": [
    "print(classification_report(y_test, model.predict(X_test)))"
   ]
  },
  {
   "cell_type": "code",
   "execution_count": 45,
   "metadata": {
    "id": "5sLjWlk_bUI4",
    "tags": []
   },
   "outputs": [],
   "source": [
    "y_proba = model.predict_proba(X_test)"
   ]
  },
  {
   "cell_type": "code",
   "execution_count": 46,
   "metadata": {
    "colab": {
     "base_uri": "https://localhost:8080/"
    },
    "id": "siQ57K0VbUv9",
    "outputId": "fc4070a9-9695-4eb4-d14b-a25d856bdea2",
    "tags": []
   },
   "outputs": [
    {
     "name": "stdout",
     "output_type": "stream",
     "text": [
      "ROC AUC: 0.7506\n"
     ]
    }
   ],
   "source": [
    "score_glm = roc_auc_score(y_test, y_proba[:, 1])\n",
    "print(f\"ROC AUC: {score_glm:.4f}\")"
   ]
  },
  {
   "cell_type": "code",
   "execution_count": 47,
   "metadata": {
    "tags": []
   },
   "outputs": [],
   "source": [
    "fpr_glm, tpr_glm, thresh1 = roc_curve(y_test, y_proba[:, 1])"
   ]
  },
  {
   "cell_type": "markdown",
   "metadata": {
    "id": "lY46KBMkvh2e"
   },
   "source": [
    "## Naive Bayes Classification"
   ]
  },
  {
   "cell_type": "code",
   "execution_count": 48,
   "metadata": {
    "colab": {
     "base_uri": "https://localhost:8080/",
     "height": 75
    },
    "id": "enQE2nLfv0pJ",
    "outputId": "289fa086-991f-4665-a513-2ca3eb19efac",
    "tags": []
   },
   "outputs": [
    {
     "data": {
      "text/html": [
       "<style>#sk-container-id-3 {color: black;}#sk-container-id-3 pre{padding: 0;}#sk-container-id-3 div.sk-toggleable {background-color: white;}#sk-container-id-3 label.sk-toggleable__label {cursor: pointer;display: block;width: 100%;margin-bottom: 0;padding: 0.3em;box-sizing: border-box;text-align: center;}#sk-container-id-3 label.sk-toggleable__label-arrow:before {content: \"▸\";float: left;margin-right: 0.25em;color: #696969;}#sk-container-id-3 label.sk-toggleable__label-arrow:hover:before {color: black;}#sk-container-id-3 div.sk-estimator:hover label.sk-toggleable__label-arrow:before {color: black;}#sk-container-id-3 div.sk-toggleable__content {max-height: 0;max-width: 0;overflow: hidden;text-align: left;background-color: #f0f8ff;}#sk-container-id-3 div.sk-toggleable__content pre {margin: 0.2em;color: black;border-radius: 0.25em;background-color: #f0f8ff;}#sk-container-id-3 input.sk-toggleable__control:checked~div.sk-toggleable__content {max-height: 200px;max-width: 100%;overflow: auto;}#sk-container-id-3 input.sk-toggleable__control:checked~label.sk-toggleable__label-arrow:before {content: \"▾\";}#sk-container-id-3 div.sk-estimator input.sk-toggleable__control:checked~label.sk-toggleable__label {background-color: #d4ebff;}#sk-container-id-3 div.sk-label input.sk-toggleable__control:checked~label.sk-toggleable__label {background-color: #d4ebff;}#sk-container-id-3 input.sk-hidden--visually {border: 0;clip: rect(1px 1px 1px 1px);clip: rect(1px, 1px, 1px, 1px);height: 1px;margin: -1px;overflow: hidden;padding: 0;position: absolute;width: 1px;}#sk-container-id-3 div.sk-estimator {font-family: monospace;background-color: #f0f8ff;border: 1px dotted black;border-radius: 0.25em;box-sizing: border-box;margin-bottom: 0.5em;}#sk-container-id-3 div.sk-estimator:hover {background-color: #d4ebff;}#sk-container-id-3 div.sk-parallel-item::after {content: \"\";width: 100%;border-bottom: 1px solid gray;flex-grow: 1;}#sk-container-id-3 div.sk-label:hover label.sk-toggleable__label {background-color: #d4ebff;}#sk-container-id-3 div.sk-serial::before {content: \"\";position: absolute;border-left: 1px solid gray;box-sizing: border-box;top: 0;bottom: 0;left: 50%;z-index: 0;}#sk-container-id-3 div.sk-serial {display: flex;flex-direction: column;align-items: center;background-color: white;padding-right: 0.2em;padding-left: 0.2em;position: relative;}#sk-container-id-3 div.sk-item {position: relative;z-index: 1;}#sk-container-id-3 div.sk-parallel {display: flex;align-items: stretch;justify-content: center;background-color: white;position: relative;}#sk-container-id-3 div.sk-item::before, #sk-container-id-3 div.sk-parallel-item::before {content: \"\";position: absolute;border-left: 1px solid gray;box-sizing: border-box;top: 0;bottom: 0;left: 50%;z-index: -1;}#sk-container-id-3 div.sk-parallel-item {display: flex;flex-direction: column;z-index: 1;position: relative;background-color: white;}#sk-container-id-3 div.sk-parallel-item:first-child::after {align-self: flex-end;width: 50%;}#sk-container-id-3 div.sk-parallel-item:last-child::after {align-self: flex-start;width: 50%;}#sk-container-id-3 div.sk-parallel-item:only-child::after {width: 0;}#sk-container-id-3 div.sk-dashed-wrapped {border: 1px dashed gray;margin: 0 0.4em 0.5em 0.4em;box-sizing: border-box;padding-bottom: 0.4em;background-color: white;}#sk-container-id-3 div.sk-label label {font-family: monospace;font-weight: bold;display: inline-block;line-height: 1.2em;}#sk-container-id-3 div.sk-label-container {text-align: center;}#sk-container-id-3 div.sk-container {/* jupyter's `normalize.less` sets `[hidden] { display: none; }` but bootstrap.min.css set `[hidden] { display: none !important; }` so we also need the `!important` here to be able to override the default hidden behavior on the sphinx rendered scikit-learn.org. See: https://github.com/scikit-learn/scikit-learn/issues/21755 */display: inline-block !important;position: relative;}#sk-container-id-3 div.sk-text-repr-fallback {display: none;}</style><div id=\"sk-container-id-3\" class=\"sk-top-container\"><div class=\"sk-text-repr-fallback\"><pre>GaussianNB()</pre><b>In a Jupyter environment, please rerun this cell to show the HTML representation or trust the notebook. <br />On GitHub, the HTML representation is unable to render, please try loading this page with nbviewer.org.</b></div><div class=\"sk-container\" hidden><div class=\"sk-item\"><div class=\"sk-estimator sk-toggleable\"><input class=\"sk-toggleable__control sk-hidden--visually\" id=\"sk-estimator-id-3\" type=\"checkbox\" checked><label for=\"sk-estimator-id-3\" class=\"sk-toggleable__label sk-toggleable__label-arrow\">GaussianNB</label><div class=\"sk-toggleable__content\"><pre>GaussianNB()</pre></div></div></div></div></div>"
      ],
      "text/plain": [
       "GaussianNB()"
      ]
     },
     "execution_count": 48,
     "metadata": {},
     "output_type": "execute_result"
    }
   ],
   "source": [
    "from sklearn.naive_bayes import GaussianNB\n",
    "\n",
    "model = GaussianNB()\n",
    "\n",
    "model.fit(X_train, y_train)"
   ]
  },
  {
   "cell_type": "code",
   "execution_count": 49,
   "metadata": {
    "colab": {
     "base_uri": "https://localhost:8080/"
    },
    "id": "XtwZk_eevdzC",
    "outputId": "df3412a4-8f06-4a86-f2f8-0c687999346c",
    "tags": []
   },
   "outputs": [
    {
     "name": "stdout",
     "output_type": "stream",
     "text": [
      "Accuracy: 0.8700378071833649\n",
      "F1 Score: 0.8668294094352292\n"
     ]
    }
   ],
   "source": [
    "y_pred = model.predict(X_test)\n",
    "accuracy = accuracy_score(y_pred, y_test)\n",
    "f1 = f1_score(y_pred, y_test, average=\"weighted\")\n",
    "print(\"Accuracy:\", accuracy)\n",
    "print(\"F1 Score:\", f1)"
   ]
  },
  {
   "cell_type": "code",
   "execution_count": 50,
   "metadata": {
    "colab": {
     "base_uri": "https://localhost:8080/"
    },
    "id": "Pt5zeI27vtE6",
    "outputId": "375367e1-f0ff-4ba9-c7d3-b5f44ccd291f",
    "tags": []
   },
   "outputs": [
    {
     "data": {
      "text/plain": [
       "array([[3574,  296],\n",
       "       [ 254,  108]], dtype=int64)"
      ]
     },
     "execution_count": 50,
     "metadata": {},
     "output_type": "execute_result"
    }
   ],
   "source": [
    "confusion_matrix(y_test, model.predict(X_test))"
   ]
  },
  {
   "cell_type": "code",
   "execution_count": 51,
   "metadata": {
    "id": "9jY0YH70wcuY",
    "tags": []
   },
   "outputs": [],
   "source": [
    "y_proba = model.predict_proba(X_test)"
   ]
  },
  {
   "cell_type": "code",
   "execution_count": 52,
   "metadata": {
    "colab": {
     "base_uri": "https://localhost:8080/"
    },
    "id": "pudSUh2cwdAt",
    "outputId": "6757022a-77d4-43fb-e370-10aa3579a588",
    "tags": []
   },
   "outputs": [
    {
     "name": "stdout",
     "output_type": "stream",
     "text": [
      "ROC AUC: 0.7403\n"
     ]
    }
   ],
   "source": [
    "score_NB = roc_auc_score(y_test, y_proba[:, 1])\n",
    "print(f\"ROC AUC: {score_NB:.4f}\")"
   ]
  },
  {
   "cell_type": "code",
   "execution_count": 53,
   "metadata": {
    "tags": []
   },
   "outputs": [],
   "source": [
    "fpr_NB, tpr_NB, thresh1 = roc_curve(y_test, y_proba[:, 1])"
   ]
  },
  {
   "cell_type": "markdown",
   "metadata": {
    "id": "0_7laZqNyy22"
   },
   "source": [
    "## LDA"
   ]
  },
  {
   "cell_type": "code",
   "execution_count": 54,
   "metadata": {
    "id": "YEoyi2sDvxEa",
    "tags": []
   },
   "outputs": [],
   "source": [
    "from sklearn.discriminant_analysis import LinearDiscriminantAnalysis"
   ]
  },
  {
   "cell_type": "code",
   "execution_count": 55,
   "metadata": {
    "colab": {
     "base_uri": "https://localhost:8080/",
     "height": 75
    },
    "id": "dQnGtRS0xGw9",
    "outputId": "4b10fa12-4fc9-443b-b132-19963572b492",
    "tags": []
   },
   "outputs": [
    {
     "data": {
      "text/html": [
       "<style>#sk-container-id-4 {color: black;}#sk-container-id-4 pre{padding: 0;}#sk-container-id-4 div.sk-toggleable {background-color: white;}#sk-container-id-4 label.sk-toggleable__label {cursor: pointer;display: block;width: 100%;margin-bottom: 0;padding: 0.3em;box-sizing: border-box;text-align: center;}#sk-container-id-4 label.sk-toggleable__label-arrow:before {content: \"▸\";float: left;margin-right: 0.25em;color: #696969;}#sk-container-id-4 label.sk-toggleable__label-arrow:hover:before {color: black;}#sk-container-id-4 div.sk-estimator:hover label.sk-toggleable__label-arrow:before {color: black;}#sk-container-id-4 div.sk-toggleable__content {max-height: 0;max-width: 0;overflow: hidden;text-align: left;background-color: #f0f8ff;}#sk-container-id-4 div.sk-toggleable__content pre {margin: 0.2em;color: black;border-radius: 0.25em;background-color: #f0f8ff;}#sk-container-id-4 input.sk-toggleable__control:checked~div.sk-toggleable__content {max-height: 200px;max-width: 100%;overflow: auto;}#sk-container-id-4 input.sk-toggleable__control:checked~label.sk-toggleable__label-arrow:before {content: \"▾\";}#sk-container-id-4 div.sk-estimator input.sk-toggleable__control:checked~label.sk-toggleable__label {background-color: #d4ebff;}#sk-container-id-4 div.sk-label input.sk-toggleable__control:checked~label.sk-toggleable__label {background-color: #d4ebff;}#sk-container-id-4 input.sk-hidden--visually {border: 0;clip: rect(1px 1px 1px 1px);clip: rect(1px, 1px, 1px, 1px);height: 1px;margin: -1px;overflow: hidden;padding: 0;position: absolute;width: 1px;}#sk-container-id-4 div.sk-estimator {font-family: monospace;background-color: #f0f8ff;border: 1px dotted black;border-radius: 0.25em;box-sizing: border-box;margin-bottom: 0.5em;}#sk-container-id-4 div.sk-estimator:hover {background-color: #d4ebff;}#sk-container-id-4 div.sk-parallel-item::after {content: \"\";width: 100%;border-bottom: 1px solid gray;flex-grow: 1;}#sk-container-id-4 div.sk-label:hover label.sk-toggleable__label {background-color: #d4ebff;}#sk-container-id-4 div.sk-serial::before {content: \"\";position: absolute;border-left: 1px solid gray;box-sizing: border-box;top: 0;bottom: 0;left: 50%;z-index: 0;}#sk-container-id-4 div.sk-serial {display: flex;flex-direction: column;align-items: center;background-color: white;padding-right: 0.2em;padding-left: 0.2em;position: relative;}#sk-container-id-4 div.sk-item {position: relative;z-index: 1;}#sk-container-id-4 div.sk-parallel {display: flex;align-items: stretch;justify-content: center;background-color: white;position: relative;}#sk-container-id-4 div.sk-item::before, #sk-container-id-4 div.sk-parallel-item::before {content: \"\";position: absolute;border-left: 1px solid gray;box-sizing: border-box;top: 0;bottom: 0;left: 50%;z-index: -1;}#sk-container-id-4 div.sk-parallel-item {display: flex;flex-direction: column;z-index: 1;position: relative;background-color: white;}#sk-container-id-4 div.sk-parallel-item:first-child::after {align-self: flex-end;width: 50%;}#sk-container-id-4 div.sk-parallel-item:last-child::after {align-self: flex-start;width: 50%;}#sk-container-id-4 div.sk-parallel-item:only-child::after {width: 0;}#sk-container-id-4 div.sk-dashed-wrapped {border: 1px dashed gray;margin: 0 0.4em 0.5em 0.4em;box-sizing: border-box;padding-bottom: 0.4em;background-color: white;}#sk-container-id-4 div.sk-label label {font-family: monospace;font-weight: bold;display: inline-block;line-height: 1.2em;}#sk-container-id-4 div.sk-label-container {text-align: center;}#sk-container-id-4 div.sk-container {/* jupyter's `normalize.less` sets `[hidden] { display: none; }` but bootstrap.min.css set `[hidden] { display: none !important; }` so we also need the `!important` here to be able to override the default hidden behavior on the sphinx rendered scikit-learn.org. See: https://github.com/scikit-learn/scikit-learn/issues/21755 */display: inline-block !important;position: relative;}#sk-container-id-4 div.sk-text-repr-fallback {display: none;}</style><div id=\"sk-container-id-4\" class=\"sk-top-container\"><div class=\"sk-text-repr-fallback\"><pre>LinearDiscriminantAnalysis()</pre><b>In a Jupyter environment, please rerun this cell to show the HTML representation or trust the notebook. <br />On GitHub, the HTML representation is unable to render, please try loading this page with nbviewer.org.</b></div><div class=\"sk-container\" hidden><div class=\"sk-item\"><div class=\"sk-estimator sk-toggleable\"><input class=\"sk-toggleable__control sk-hidden--visually\" id=\"sk-estimator-id-4\" type=\"checkbox\" checked><label for=\"sk-estimator-id-4\" class=\"sk-toggleable__label sk-toggleable__label-arrow\">LinearDiscriminantAnalysis</label><div class=\"sk-toggleable__content\"><pre>LinearDiscriminantAnalysis()</pre></div></div></div></div></div>"
      ],
      "text/plain": [
       "LinearDiscriminantAnalysis()"
      ]
     },
     "execution_count": 55,
     "metadata": {},
     "output_type": "execute_result"
    }
   ],
   "source": [
    "model = LinearDiscriminantAnalysis(shrinkage=None)\n",
    "model.fit(X_train, y_train)"
   ]
  },
  {
   "cell_type": "code",
   "execution_count": 56,
   "metadata": {
    "colab": {
     "base_uri": "https://localhost:8080/"
    },
    "id": "ZON2Z5Iky5gU",
    "outputId": "56583e52-ac76-493d-836d-506c256cf1b4",
    "tags": []
   },
   "outputs": [
    {
     "data": {
      "text/plain": [
       "0.9021739130434783"
      ]
     },
     "execution_count": 56,
     "metadata": {},
     "output_type": "execute_result"
    }
   ],
   "source": [
    "model.score(X_test,y_test)"
   ]
  },
  {
   "cell_type": "code",
   "execution_count": 57,
   "metadata": {
    "colab": {
     "base_uri": "https://localhost:8080/"
    },
    "id": "9MLZ4BZMzKep",
    "outputId": "84c05459-9eda-4eef-d56b-87f69afe6f1f",
    "tags": []
   },
   "outputs": [
    {
     "name": "stdout",
     "output_type": "stream",
     "text": [
      "Accuracy: 0.9021739130434783\n",
      "F1 Score: 0.9170203375810853\n"
     ]
    }
   ],
   "source": [
    "y_pred = model.predict(X_test)\n",
    "accuracy = accuracy_score(y_pred, y_test)\n",
    "f1 = f1_score(y_pred, y_test, average=\"weighted\")\n",
    "\n",
    "print(\"Accuracy:\", accuracy)\n",
    "print(\"F1 Score:\", f1)"
   ]
  },
  {
   "cell_type": "code",
   "execution_count": 58,
   "metadata": {
    "colab": {
     "base_uri": "https://localhost:8080/"
    },
    "id": "lr6jm_8OzNcd",
    "outputId": "968df541-f68b-4fe6-822a-7388bbcdf79d",
    "tags": []
   },
   "outputs": [
    {
     "data": {
      "text/plain": [
       "array([[3752,  118],\n",
       "       [ 296,   66]], dtype=int64)"
      ]
     },
     "execution_count": 58,
     "metadata": {},
     "output_type": "execute_result"
    }
   ],
   "source": [
    "confusion_matrix(y_test, model.predict(X_test))"
   ]
  },
  {
   "cell_type": "code",
   "execution_count": 59,
   "metadata": {
    "id": "MXv0hyGSwhmO",
    "tags": []
   },
   "outputs": [],
   "source": [
    "y_proba = model.predict_proba(X_test)"
   ]
  },
  {
   "cell_type": "code",
   "execution_count": 60,
   "metadata": {
    "colab": {
     "base_uri": "https://localhost:8080/"
    },
    "id": "pPGGCGG0whZk",
    "outputId": "d60669e3-8691-47c3-979e-db4b96562fc3",
    "tags": []
   },
   "outputs": [
    {
     "name": "stdout",
     "output_type": "stream",
     "text": [
      "ROC AUC: 0.7449\n"
     ]
    }
   ],
   "source": [
    "score_LDA = roc_auc_score(y_test, y_proba[:, 1])\n",
    "print(f\"ROC AUC: {score_LDA:.4f}\")"
   ]
  },
  {
   "cell_type": "code",
   "execution_count": 61,
   "metadata": {},
   "outputs": [],
   "source": [
    "fpr_LDA, tpr_LDA, thresh1 = roc_curve(y_test, y_proba[:, 1])"
   ]
  },
  {
   "cell_type": "markdown",
   "metadata": {
    "id": "KiLOZs2QzrV9"
   },
   "source": [
    "## QDA"
   ]
  },
  {
   "cell_type": "code",
   "execution_count": 62,
   "metadata": {
    "id": "yNGXDBhWzhV2",
    "tags": []
   },
   "outputs": [],
   "source": [
    "from sklearn.discriminant_analysis import QuadraticDiscriminantAnalysis"
   ]
  },
  {
   "cell_type": "code",
   "execution_count": 63,
   "metadata": {
    "colab": {
     "base_uri": "https://localhost:8080/",
     "height": 110
    },
    "id": "rtXTYc-czx6j",
    "outputId": "7eed65ee-31be-485e-fdb1-0c791d5673e6",
    "tags": []
   },
   "outputs": [
    {
     "name": "stderr",
     "output_type": "stream",
     "text": [
      "C:\\Users\\alexa\\anaconda3\\envs\\new\\lib\\site-packages\\sklearn\\discriminant_analysis.py:935: UserWarning: Variables are collinear\n",
      "  warnings.warn(\"Variables are collinear\")\n"
     ]
    },
    {
     "data": {
      "text/html": [
       "<style>#sk-container-id-5 {color: black;}#sk-container-id-5 pre{padding: 0;}#sk-container-id-5 div.sk-toggleable {background-color: white;}#sk-container-id-5 label.sk-toggleable__label {cursor: pointer;display: block;width: 100%;margin-bottom: 0;padding: 0.3em;box-sizing: border-box;text-align: center;}#sk-container-id-5 label.sk-toggleable__label-arrow:before {content: \"▸\";float: left;margin-right: 0.25em;color: #696969;}#sk-container-id-5 label.sk-toggleable__label-arrow:hover:before {color: black;}#sk-container-id-5 div.sk-estimator:hover label.sk-toggleable__label-arrow:before {color: black;}#sk-container-id-5 div.sk-toggleable__content {max-height: 0;max-width: 0;overflow: hidden;text-align: left;background-color: #f0f8ff;}#sk-container-id-5 div.sk-toggleable__content pre {margin: 0.2em;color: black;border-radius: 0.25em;background-color: #f0f8ff;}#sk-container-id-5 input.sk-toggleable__control:checked~div.sk-toggleable__content {max-height: 200px;max-width: 100%;overflow: auto;}#sk-container-id-5 input.sk-toggleable__control:checked~label.sk-toggleable__label-arrow:before {content: \"▾\";}#sk-container-id-5 div.sk-estimator input.sk-toggleable__control:checked~label.sk-toggleable__label {background-color: #d4ebff;}#sk-container-id-5 div.sk-label input.sk-toggleable__control:checked~label.sk-toggleable__label {background-color: #d4ebff;}#sk-container-id-5 input.sk-hidden--visually {border: 0;clip: rect(1px 1px 1px 1px);clip: rect(1px, 1px, 1px, 1px);height: 1px;margin: -1px;overflow: hidden;padding: 0;position: absolute;width: 1px;}#sk-container-id-5 div.sk-estimator {font-family: monospace;background-color: #f0f8ff;border: 1px dotted black;border-radius: 0.25em;box-sizing: border-box;margin-bottom: 0.5em;}#sk-container-id-5 div.sk-estimator:hover {background-color: #d4ebff;}#sk-container-id-5 div.sk-parallel-item::after {content: \"\";width: 100%;border-bottom: 1px solid gray;flex-grow: 1;}#sk-container-id-5 div.sk-label:hover label.sk-toggleable__label {background-color: #d4ebff;}#sk-container-id-5 div.sk-serial::before {content: \"\";position: absolute;border-left: 1px solid gray;box-sizing: border-box;top: 0;bottom: 0;left: 50%;z-index: 0;}#sk-container-id-5 div.sk-serial {display: flex;flex-direction: column;align-items: center;background-color: white;padding-right: 0.2em;padding-left: 0.2em;position: relative;}#sk-container-id-5 div.sk-item {position: relative;z-index: 1;}#sk-container-id-5 div.sk-parallel {display: flex;align-items: stretch;justify-content: center;background-color: white;position: relative;}#sk-container-id-5 div.sk-item::before, #sk-container-id-5 div.sk-parallel-item::before {content: \"\";position: absolute;border-left: 1px solid gray;box-sizing: border-box;top: 0;bottom: 0;left: 50%;z-index: -1;}#sk-container-id-5 div.sk-parallel-item {display: flex;flex-direction: column;z-index: 1;position: relative;background-color: white;}#sk-container-id-5 div.sk-parallel-item:first-child::after {align-self: flex-end;width: 50%;}#sk-container-id-5 div.sk-parallel-item:last-child::after {align-self: flex-start;width: 50%;}#sk-container-id-5 div.sk-parallel-item:only-child::after {width: 0;}#sk-container-id-5 div.sk-dashed-wrapped {border: 1px dashed gray;margin: 0 0.4em 0.5em 0.4em;box-sizing: border-box;padding-bottom: 0.4em;background-color: white;}#sk-container-id-5 div.sk-label label {font-family: monospace;font-weight: bold;display: inline-block;line-height: 1.2em;}#sk-container-id-5 div.sk-label-container {text-align: center;}#sk-container-id-5 div.sk-container {/* jupyter's `normalize.less` sets `[hidden] { display: none; }` but bootstrap.min.css set `[hidden] { display: none !important; }` so we also need the `!important` here to be able to override the default hidden behavior on the sphinx rendered scikit-learn.org. See: https://github.com/scikit-learn/scikit-learn/issues/21755 */display: inline-block !important;position: relative;}#sk-container-id-5 div.sk-text-repr-fallback {display: none;}</style><div id=\"sk-container-id-5\" class=\"sk-top-container\"><div class=\"sk-text-repr-fallback\"><pre>QuadraticDiscriminantAnalysis(reg_param=0.05)</pre><b>In a Jupyter environment, please rerun this cell to show the HTML representation or trust the notebook. <br />On GitHub, the HTML representation is unable to render, please try loading this page with nbviewer.org.</b></div><div class=\"sk-container\" hidden><div class=\"sk-item\"><div class=\"sk-estimator sk-toggleable\"><input class=\"sk-toggleable__control sk-hidden--visually\" id=\"sk-estimator-id-5\" type=\"checkbox\" checked><label for=\"sk-estimator-id-5\" class=\"sk-toggleable__label sk-toggleable__label-arrow\">QuadraticDiscriminantAnalysis</label><div class=\"sk-toggleable__content\"><pre>QuadraticDiscriminantAnalysis(reg_param=0.05)</pre></div></div></div></div></div>"
      ],
      "text/plain": [
       "QuadraticDiscriminantAnalysis(reg_param=0.05)"
      ]
     },
     "execution_count": 63,
     "metadata": {},
     "output_type": "execute_result"
    }
   ],
   "source": [
    "model = QuadraticDiscriminantAnalysis(reg_param = 0.05)\n",
    "model.fit(X_train, y_train)"
   ]
  },
  {
   "cell_type": "code",
   "execution_count": 64,
   "metadata": {
    "colab": {
     "base_uri": "https://localhost:8080/"
    },
    "id": "CpyFobGwz1_f",
    "outputId": "64e4c7df-3a9d-41fe-fba9-e530e941511e",
    "tags": []
   },
   "outputs": [
    {
     "data": {
      "text/plain": [
       "0.8962665406427222"
      ]
     },
     "execution_count": 64,
     "metadata": {},
     "output_type": "execute_result"
    }
   ],
   "source": [
    "model.score(X_test,y_test)"
   ]
  },
  {
   "cell_type": "code",
   "execution_count": 65,
   "metadata": {
    "colab": {
     "base_uri": "https://localhost:8080/"
    },
    "id": "L0eYUVc6z53R",
    "outputId": "02bd64d1-41d3-45a2-c70a-81460d280402",
    "tags": []
   },
   "outputs": [
    {
     "name": "stdout",
     "output_type": "stream",
     "text": [
      "Accuracy: 0.8962665406427222\n",
      "F1 Score: 0.9068612148564823\n"
     ]
    }
   ],
   "source": [
    "y_pred = model.predict(X_test)\n",
    "accuracy = accuracy_score(y_pred, y_test)\n",
    "f1 = f1_score(y_pred, y_test, average=\"weighted\")\n",
    "\n",
    "print(\"Accuracy:\", accuracy)\n",
    "print(\"F1 Score:\", f1)"
   ]
  },
  {
   "cell_type": "code",
   "execution_count": 66,
   "metadata": {
    "colab": {
     "base_uri": "https://localhost:8080/"
    },
    "id": "XcRd9Vv90IiL",
    "outputId": "6ebc479c-88d8-4fad-eaaf-974106501dc5",
    "tags": []
   },
   "outputs": [
    {
     "data": {
      "text/plain": [
       "array([[3716,  154],\n",
       "       [ 285,   77]], dtype=int64)"
      ]
     },
     "execution_count": 66,
     "metadata": {},
     "output_type": "execute_result"
    }
   ],
   "source": [
    "confusion_matrix(y_test, model.predict(X_test))"
   ]
  },
  {
   "cell_type": "code",
   "execution_count": 67,
   "metadata": {
    "id": "8MdSnybJwldv",
    "tags": []
   },
   "outputs": [],
   "source": [
    "y_proba = model.predict_proba(X_test)"
   ]
  },
  {
   "cell_type": "code",
   "execution_count": 68,
   "metadata": {
    "colab": {
     "base_uri": "https://localhost:8080/"
    },
    "id": "ObgdLTdT0KhL",
    "outputId": "e429222c-a022-4515-a4e9-ed951457b911",
    "tags": []
   },
   "outputs": [
    {
     "name": "stdout",
     "output_type": "stream",
     "text": [
      "ROC AUC: 0.7379\n"
     ]
    }
   ],
   "source": [
    "score_QDA = roc_auc_score(y_test, y_proba[:, 1])\n",
    "print(f\"ROC AUC: {score_QDA:.4f}\")"
   ]
  },
  {
   "cell_type": "code",
   "execution_count": 69,
   "metadata": {
    "id": "BYdxQGKvw8Db"
   },
   "outputs": [],
   "source": [
    "fpr_QDA, tpr_QDA, thresh1 = roc_curve(y_test, y_proba[:, 1])"
   ]
  },
  {
   "cell_type": "code",
   "execution_count": 70,
   "metadata": {
    "tags": []
   },
   "outputs": [],
   "source": [
    "import seaborn as sns\n",
    "sns.set(rc = {'axes.facecolor':'white',\n",
    "              \"axes.edgecolor\":'black',    \n",
    "            \"xtick.bottom\":True,\n",
    "            \"xtick.top\":False,\n",
    "            \"ytick.left\":True,\n",
    "            \"ytick.right\":False,\n",
    "            \"axes.linewidth\":0.5,\n",
    "            \"xtick.major.width\":0.5,\n",
    "            \"ytick.major.width\":0.5,\n",
    "            \"xtick.minor.width\":0.5,\n",
    "            \"ytick.minor.width\":0.5,\n",
    "            \"font.size\":14,\n",
    "            \"axes.labelsize\":14,\n",
    "            \"axes.titlesize\":14,\n",
    "            \"xtick.labelsize\":14,\n",
    "            \"ytick.labelsize\":14,\n",
    "            \"legend.fontsize\":12,\n",
    "            \"legend.title_fontsize\":12,\n",
    "            \"lines.linewidth\":1.2,\n",
    "            \"patch.linewidth\":0.2,\n",
    "            \"patch.edgecolor\":'black',\n",
    "            \"patch.force_edgecolor\":True,\n",
    "            \"xtick.major.size\":3,\n",
    "            \"ytick.major.size\":3,\n",
    "            \"xtick.minor.size\":1,\n",
    "            \"ytick.minor.size\":1,\n",
    "            \"xtick.minor.width\":0.2,\n",
    "            \"ytick.minor.width\":0.2})"
   ]
  },
  {
   "cell_type": "code",
   "execution_count": 71,
   "metadata": {
    "tags": []
   },
   "outputs": [
    {
     "data": {
      "text/plain": [
       "Text(0, 0.5, 'True Positive Rate')"
      ]
     },
     "execution_count": 71,
     "metadata": {},
     "output_type": "execute_result"
    },
    {
     "data": {
      "image/png": "[encoded data removed]",
      "text/plain": [
       "<Figure size 1920x1440 with 1 Axes>"
      ]
     },
     "metadata": {},
     "output_type": "display_data"
    }
   ],
   "source": [
    "plt.figure(dpi=300)\n",
    "plt.plot([0,1], [0,1],linestyle='--',color='black')\n",
    "plt.plot(fpr1, tpr1, label='No Patient Data (AUC = 0.69)')\n",
    "plt.plot(fpr_glm, tpr_glm, label=f'Logistic Regression (AUC = {score_glm:.2f})')\n",
    "plt.plot(fpr_NB, tpr_NB, label=f'Naive Bayes (AUC = {score_NB:.2f})')\n",
    "plt.plot(fpr_LDA, tpr_LDA, label=f'LDA (AUC = {score_LDA:.2f})')\n",
    "plt.plot(fpr_QDA, tpr_QDA, label=f'QDA (AUC = {score_QDA:.2f})')\n",
    "plt.legend()\n",
    "plt.xlabel('False Positive Rate')\n",
    "plt.ylabel('True Positive Rate')"
   ]
  },
  {
   "cell_type": "code",
   "execution_count": null,
   "metadata": {},
   "outputs": [],
   "source": []
  }
 ],
 "metadata": {
  "colab": {
   "provenance": []
  },
  "kernelspec": {
   "display_name": "Python 3 (ipykernel)",
   "language": "python",
   "name": "python3"
  },
  "language_info": {
   "codemirror_mode": {
    "name": "ipython",
    "version": 3
   },
   "file_extension": ".py",
   "mimetype": "text/x-python",
   "name": "python",
   "nbconvert_exporter": "python",
   "pygments_lexer": "ipython3",
   "version": "3.9.16"
  }
 },
 "nbformat": 4,
 "nbformat_minor": 4
}
